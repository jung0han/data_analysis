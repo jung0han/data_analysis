{
 "cells": [
  {
   "cell_type": "code",
   "execution_count": 1,
   "metadata": {},
   "outputs": [],
   "source": [
    "import pandas as pd\n",
    "import matplotlib.pyplot as plt\n",
    "import seaborn as sns\n",
    "import numpy as np\n",
    "from scipy.stats import norm\n",
    "from sklearn.preprocessing import StandardScaler\n",
    "from scipy import stats\n",
    "import warnings\n",
    "warnings.filterwarnings('ignore')\n",
    "%matplotlib inline"
   ]
  },
  {
   "cell_type": "code",
   "execution_count": 2,
   "metadata": {},
   "outputs": [
    {
     "data": {
      "text/html": [
       "<div>\n",
       "<style scoped>\n",
       "    .dataframe tbody tr th:only-of-type {\n",
       "        vertical-align: middle;\n",
       "    }\n",
       "\n",
       "    .dataframe tbody tr th {\n",
       "        vertical-align: top;\n",
       "    }\n",
       "\n",
       "    .dataframe thead th {\n",
       "        text-align: right;\n",
       "    }\n",
       "</style>\n",
       "<table border=\"1\" class=\"dataframe\">\n",
       "  <thead>\n",
       "    <tr style=\"text-align: right;\">\n",
       "      <th></th>\n",
       "      <th>event_time</th>\n",
       "      <th>event_type</th>\n",
       "      <th>product_id</th>\n",
       "      <th>category_id</th>\n",
       "      <th>category_code</th>\n",
       "      <th>brand</th>\n",
       "      <th>price</th>\n",
       "      <th>user_id</th>\n",
       "      <th>user_session</th>\n",
       "    </tr>\n",
       "  </thead>\n",
       "  <tbody>\n",
       "    <tr>\n",
       "      <th>0</th>\n",
       "      <td>2019-11-01 00:00:00 UTC</td>\n",
       "      <td>view</td>\n",
       "      <td>1003461</td>\n",
       "      <td>2053013555631882655</td>\n",
       "      <td>electronics.smartphone</td>\n",
       "      <td>xiaomi</td>\n",
       "      <td>489.07</td>\n",
       "      <td>520088904</td>\n",
       "      <td>4d3b30da-a5e4-49df-b1a8-ba5943f1dd33</td>\n",
       "    </tr>\n",
       "    <tr>\n",
       "      <th>1</th>\n",
       "      <td>2019-11-01 00:00:00 UTC</td>\n",
       "      <td>view</td>\n",
       "      <td>5000088</td>\n",
       "      <td>2053013566100866035</td>\n",
       "      <td>appliances.sewing_machine</td>\n",
       "      <td>janome</td>\n",
       "      <td>293.65</td>\n",
       "      <td>530496790</td>\n",
       "      <td>8e5f4f83-366c-4f70-860e-ca7417414283</td>\n",
       "    </tr>\n",
       "    <tr>\n",
       "      <th>2</th>\n",
       "      <td>2019-11-01 00:00:01 UTC</td>\n",
       "      <td>view</td>\n",
       "      <td>17302664</td>\n",
       "      <td>2053013553853497655</td>\n",
       "      <td>NaN</td>\n",
       "      <td>creed</td>\n",
       "      <td>28.31</td>\n",
       "      <td>561587266</td>\n",
       "      <td>755422e7-9040-477b-9bd2-6a6e8fd97387</td>\n",
       "    </tr>\n",
       "    <tr>\n",
       "      <th>3</th>\n",
       "      <td>2019-11-01 00:00:01 UTC</td>\n",
       "      <td>view</td>\n",
       "      <td>3601530</td>\n",
       "      <td>2053013563810775923</td>\n",
       "      <td>appliances.kitchen.washer</td>\n",
       "      <td>lg</td>\n",
       "      <td>712.87</td>\n",
       "      <td>518085591</td>\n",
       "      <td>3bfb58cd-7892-48cc-8020-2f17e6de6e7f</td>\n",
       "    </tr>\n",
       "    <tr>\n",
       "      <th>4</th>\n",
       "      <td>2019-11-01 00:00:01 UTC</td>\n",
       "      <td>view</td>\n",
       "      <td>1004775</td>\n",
       "      <td>2053013555631882655</td>\n",
       "      <td>electronics.smartphone</td>\n",
       "      <td>xiaomi</td>\n",
       "      <td>183.27</td>\n",
       "      <td>558856683</td>\n",
       "      <td>313628f1-68b8-460d-84f6-cec7a8796ef2</td>\n",
       "    </tr>\n",
       "  </tbody>\n",
       "</table>\n",
       "</div>"
      ],
      "text/plain": [
       "                event_time event_type  product_id          category_id  \\\n",
       "0  2019-11-01 00:00:00 UTC       view     1003461  2053013555631882655   \n",
       "1  2019-11-01 00:00:00 UTC       view     5000088  2053013566100866035   \n",
       "2  2019-11-01 00:00:01 UTC       view    17302664  2053013553853497655   \n",
       "3  2019-11-01 00:00:01 UTC       view     3601530  2053013563810775923   \n",
       "4  2019-11-01 00:00:01 UTC       view     1004775  2053013555631882655   \n",
       "\n",
       "               category_code   brand   price    user_id  \\\n",
       "0     electronics.smartphone  xiaomi  489.07  520088904   \n",
       "1  appliances.sewing_machine  janome  293.65  530496790   \n",
       "2                        NaN   creed   28.31  561587266   \n",
       "3  appliances.kitchen.washer      lg  712.87  518085591   \n",
       "4     electronics.smartphone  xiaomi  183.27  558856683   \n",
       "\n",
       "                           user_session  \n",
       "0  4d3b30da-a5e4-49df-b1a8-ba5943f1dd33  \n",
       "1  8e5f4f83-366c-4f70-860e-ca7417414283  \n",
       "2  755422e7-9040-477b-9bd2-6a6e8fd97387  \n",
       "3  3bfb58cd-7892-48cc-8020-2f17e6de6e7f  \n",
       "4  313628f1-68b8-460d-84f6-cec7a8796ef2  "
      ]
     },
     "execution_count": 2,
     "metadata": {},
     "output_type": "execute_result"
    }
   ],
   "source": [
    "df_head = pd.read_csv('input/ecommerce-behavior/2019-Nov.csv', nrows=5)\n",
    "df_head"
   ]
  },
  {
   "cell_type": "code",
   "execution_count": 25,
   "metadata": {},
   "outputs": [],
   "source": [
    "usecols = ['event_time', 'event_type', 'product_id', 'category_code', 'brand', 'price', 'user_id', 'user_session']\n",
    "\n",
    "categorical_dtypes = {\n",
    "    'event_type':'category', 'product_id':'category',\n",
    "    'category_code':'category', 'brand':'category', \n",
    "    'user_id':'category', 'user_session':'category'\n",
    "}"
   ]
  },
  {
   "cell_type": "code",
   "execution_count": 26,
   "metadata": {},
   "outputs": [
    {
     "name": "stdout",
     "output_type": "stream",
     "text": [
      "(67501979, 8)\n",
      "Index(['event_time', 'event_type', 'product_id', 'category_code', 'brand',\n",
      "       'price', 'user_id', 'user_session'],\n",
      "      dtype='object')\n",
      "event_time         object\n",
      "event_type       category\n",
      "product_id       category\n",
      "category_code    category\n",
      "brand            category\n",
      "price             float64\n",
      "user_id          category\n",
      "user_session     category\n",
      "dtype: object\n"
     ]
    },
    {
     "data": {
      "text/html": [
       "<div>\n",
       "<style scoped>\n",
       "    .dataframe tbody tr th:only-of-type {\n",
       "        vertical-align: middle;\n",
       "    }\n",
       "\n",
       "    .dataframe tbody tr th {\n",
       "        vertical-align: top;\n",
       "    }\n",
       "\n",
       "    .dataframe thead th {\n",
       "        text-align: right;\n",
       "    }\n",
       "</style>\n",
       "<table border=\"1\" class=\"dataframe\">\n",
       "  <thead>\n",
       "    <tr style=\"text-align: right;\">\n",
       "      <th></th>\n",
       "      <th>event_time</th>\n",
       "      <th>event_type</th>\n",
       "      <th>product_id</th>\n",
       "      <th>category_code</th>\n",
       "      <th>brand</th>\n",
       "      <th>price</th>\n",
       "      <th>user_id</th>\n",
       "      <th>user_session</th>\n",
       "    </tr>\n",
       "  </thead>\n",
       "  <tbody>\n",
       "    <tr>\n",
       "      <th>67501974</th>\n",
       "      <td>2019-11-30 23:59:58 UTC</td>\n",
       "      <td>view</td>\n",
       "      <td>15700137</td>\n",
       "      <td>NaN</td>\n",
       "      <td>NaN</td>\n",
       "      <td>277.74</td>\n",
       "      <td>532714000</td>\n",
       "      <td>02b4131c-0112-4231-aafa-ceaa08e77c1b</td>\n",
       "    </tr>\n",
       "    <tr>\n",
       "      <th>67501975</th>\n",
       "      <td>2019-11-30 23:59:58 UTC</td>\n",
       "      <td>view</td>\n",
       "      <td>28719425</td>\n",
       "      <td>apparel.shoes</td>\n",
       "      <td>baden</td>\n",
       "      <td>62.81</td>\n",
       "      <td>545223467</td>\n",
       "      <td>734c5eef-0742-4f8b-9d22-48f75b0bc359</td>\n",
       "    </tr>\n",
       "    <tr>\n",
       "      <th>67501976</th>\n",
       "      <td>2019-11-30 23:59:59 UTC</td>\n",
       "      <td>view</td>\n",
       "      <td>1004833</td>\n",
       "      <td>electronics.smartphone</td>\n",
       "      <td>samsung</td>\n",
       "      <td>167.03</td>\n",
       "      <td>557794415</td>\n",
       "      <td>6fecf566-ebb0-4e70-a243-cdc13ce044cb</td>\n",
       "    </tr>\n",
       "    <tr>\n",
       "      <th>67501977</th>\n",
       "      <td>2019-11-30 23:59:59 UTC</td>\n",
       "      <td>view</td>\n",
       "      <td>2701706</td>\n",
       "      <td>appliances.kitchen.refrigerators</td>\n",
       "      <td>samsung</td>\n",
       "      <td>566.27</td>\n",
       "      <td>531607492</td>\n",
       "      <td>368ddc8b-5db9-40fb-b7ff-b6582a1192c0</td>\n",
       "    </tr>\n",
       "    <tr>\n",
       "      <th>67501978</th>\n",
       "      <td>2019-11-30 23:59:59 UTC</td>\n",
       "      <td>view</td>\n",
       "      <td>1004233</td>\n",
       "      <td>electronics.smartphone</td>\n",
       "      <td>apple</td>\n",
       "      <td>1312.52</td>\n",
       "      <td>579969851</td>\n",
       "      <td>90aca71c-ed8a-4670-866a-761ebacb732d</td>\n",
       "    </tr>\n",
       "  </tbody>\n",
       "</table>\n",
       "</div>"
      ],
      "text/plain": [
       "                       event_time event_type product_id  \\\n",
       "67501974  2019-11-30 23:59:58 UTC       view   15700137   \n",
       "67501975  2019-11-30 23:59:58 UTC       view   28719425   \n",
       "67501976  2019-11-30 23:59:59 UTC       view    1004833   \n",
       "67501977  2019-11-30 23:59:59 UTC       view    2701706   \n",
       "67501978  2019-11-30 23:59:59 UTC       view    1004233   \n",
       "\n",
       "                             category_code    brand    price    user_id  \\\n",
       "67501974                               NaN      NaN   277.74  532714000   \n",
       "67501975                     apparel.shoes    baden    62.81  545223467   \n",
       "67501976            electronics.smartphone  samsung   167.03  557794415   \n",
       "67501977  appliances.kitchen.refrigerators  samsung   566.27  531607492   \n",
       "67501978            electronics.smartphone    apple  1312.52  579969851   \n",
       "\n",
       "                                  user_session  \n",
       "67501974  02b4131c-0112-4231-aafa-ceaa08e77c1b  \n",
       "67501975  734c5eef-0742-4f8b-9d22-48f75b0bc359  \n",
       "67501976  6fecf566-ebb0-4e70-a243-cdc13ce044cb  \n",
       "67501977  368ddc8b-5db9-40fb-b7ff-b6582a1192c0  \n",
       "67501978  90aca71c-ed8a-4670-866a-761ebacb732d  "
      ]
     },
     "execution_count": 26,
     "metadata": {},
     "output_type": "execute_result"
    }
   ],
   "source": [
    "df = pd.read_csv('input/ecommerce-behavior/2019-Nov.csv', dtype=categorical_dtypes, usecols=usecols)\n",
    "print(df.shape)\n",
    "print(df.columns)\n",
    "print(df.dtypes)\n",
    "df.tail()"
   ]
  },
  {
   "cell_type": "code",
   "execution_count": 28,
   "metadata": {},
   "outputs": [
    {
     "name": "stdout",
     "output_type": "stream",
     "text": [
      "3\n"
     ]
    },
    {
     "data": {
      "text/plain": [
       "view        63556110\n",
       "cart         3028930\n",
       "purchase      916939\n",
       "Name: event_type, dtype: int64"
      ]
     },
     "execution_count": 28,
     "metadata": {},
     "output_type": "execute_result"
    }
   ],
   "source": [
    "print(df[\"event_type\"].sample(frac=0.01).nunique())\n",
    "df[\"event_type\"].value_counts()"
   ]
  },
  {
   "cell_type": "code",
   "execution_count": 29,
   "metadata": {},
   "outputs": [
    {
     "name": "stdout",
     "output_type": "stream",
     "text": [
      "purchase           0       1\n",
      "event_type                  \n",
      "cart         3028930       0\n",
      "purchase           0  916939\n",
      "view        63556110       0\n"
     ]
    }
   ],
   "source": [
    "df['purchase'] = np.where(df[\"event_type\"]==\"purchase\", 1, 0)\n",
    "print(pd.crosstab(df['event_type'], df['purchase']))"
   ]
  },
  {
   "cell_type": "code",
   "execution_count": 30,
   "metadata": {},
   "outputs": [
    {
     "data": {
      "text/html": [
       "<div>\n",
       "<style scoped>\n",
       "    .dataframe tbody tr th:only-of-type {\n",
       "        vertical-align: middle;\n",
       "    }\n",
       "\n",
       "    .dataframe tbody tr th {\n",
       "        vertical-align: top;\n",
       "    }\n",
       "\n",
       "    .dataframe thead th {\n",
       "        text-align: right;\n",
       "    }\n",
       "</style>\n",
       "<table border=\"1\" class=\"dataframe\">\n",
       "  <thead>\n",
       "    <tr style=\"text-align: right;\">\n",
       "      <th></th>\n",
       "      <th>event_time</th>\n",
       "      <th>event_type</th>\n",
       "      <th>product_id</th>\n",
       "      <th>category_code</th>\n",
       "      <th>brand</th>\n",
       "      <th>price</th>\n",
       "      <th>user_id</th>\n",
       "      <th>user_session</th>\n",
       "      <th>purchase</th>\n",
       "    </tr>\n",
       "  </thead>\n",
       "  <tbody>\n",
       "    <tr>\n",
       "      <th>67501974</th>\n",
       "      <td>2019-11-30 23:59:58+00:00</td>\n",
       "      <td>view</td>\n",
       "      <td>4628</td>\n",
       "      <td>NaN</td>\n",
       "      <td>NaN</td>\n",
       "      <td>277.74</td>\n",
       "      <td>2281153</td>\n",
       "      <td>13764788</td>\n",
       "      <td>0</td>\n",
       "    </tr>\n",
       "    <tr>\n",
       "      <th>67501975</th>\n",
       "      <td>2019-11-30 23:59:58+00:00</td>\n",
       "      <td>view</td>\n",
       "      <td>37808</td>\n",
       "      <td>apparel.shoes</td>\n",
       "      <td>baden</td>\n",
       "      <td>62.81</td>\n",
       "      <td>227720</td>\n",
       "      <td>13769867</td>\n",
       "      <td>0</td>\n",
       "    </tr>\n",
       "    <tr>\n",
       "      <th>67501976</th>\n",
       "      <td>2019-11-30 23:59:59+00:00</td>\n",
       "      <td>view</td>\n",
       "      <td>417</td>\n",
       "      <td>electronics.smartphone</td>\n",
       "      <td>samsung</td>\n",
       "      <td>167.03</td>\n",
       "      <td>3613608</td>\n",
       "      <td>13769709</td>\n",
       "      <td>0</td>\n",
       "    </tr>\n",
       "    <tr>\n",
       "      <th>67501977</th>\n",
       "      <td>2019-11-30 23:59:59+00:00</td>\n",
       "      <td>view</td>\n",
       "      <td>9047</td>\n",
       "      <td>appliances.kitchen.refrigerators</td>\n",
       "      <td>samsung</td>\n",
       "      <td>566.27</td>\n",
       "      <td>460280</td>\n",
       "      <td>13767080</td>\n",
       "      <td>0</td>\n",
       "    </tr>\n",
       "    <tr>\n",
       "      <th>67501978</th>\n",
       "      <td>2019-11-30 23:59:59+00:00</td>\n",
       "      <td>view</td>\n",
       "      <td>23937</td>\n",
       "      <td>electronics.smartphone</td>\n",
       "      <td>apple</td>\n",
       "      <td>1312.52</td>\n",
       "      <td>3696116</td>\n",
       "      <td>13771164</td>\n",
       "      <td>0</td>\n",
       "    </tr>\n",
       "  </tbody>\n",
       "</table>\n",
       "</div>"
      ],
      "text/plain": [
       "                        event_time event_type product_id  \\\n",
       "67501974 2019-11-30 23:59:58+00:00       view       4628   \n",
       "67501975 2019-11-30 23:59:58+00:00       view      37808   \n",
       "67501976 2019-11-30 23:59:59+00:00       view        417   \n",
       "67501977 2019-11-30 23:59:59+00:00       view       9047   \n",
       "67501978 2019-11-30 23:59:59+00:00       view      23937   \n",
       "\n",
       "                             category_code    brand    price  user_id  \\\n",
       "67501974                               NaN      NaN   277.74  2281153   \n",
       "67501975                     apparel.shoes    baden    62.81   227720   \n",
       "67501976            electronics.smartphone  samsung   167.03  3613608   \n",
       "67501977  appliances.kitchen.refrigerators  samsung   566.27   460280   \n",
       "67501978            electronics.smartphone    apple  1312.52  3696116   \n",
       "\n",
       "         user_session  purchase  \n",
       "67501974     13764788         0  \n",
       "67501975     13769867         0  \n",
       "67501976     13769709         0  \n",
       "67501977     13767080         0  \n",
       "67501978     13771164         0  "
      ]
     },
     "execution_count": 30,
     "metadata": {},
     "output_type": "execute_result"
    }
   ],
   "source": [
    "df['user_session'] = df['user_session'].astype('category').cat.codes.astype('category')\n",
    "df['user_id'] = df['user_id'].astype('category').cat.codes.astype('category')\n",
    "df['product_id'] = df['product_id'].astype('category').cat.codes.astype('category')\n",
    "df.tail()"
   ]
  },
  {
   "cell_type": "code",
   "execution_count": 31,
   "metadata": {},
   "outputs": [
    {
     "name": "stdout",
     "output_type": "stream",
     "text": [
      "(44861467, 9)\n",
      "Index(['event_time', 'event_type', 'product_id', 'category_code', 'brand',\n",
      "       'price', 'user_id', 'user_session', 'purchase'],\n",
      "      dtype='object')\n",
      "event_time       datetime64[ns, UTC]\n",
      "event_type                  category\n",
      "product_id                  category\n",
      "category_code               category\n",
      "brand                       category\n",
      "price                        float64\n",
      "user_id                     category\n",
      "user_session                category\n",
      "purchase                       int32\n",
      "dtype: object\n"
     ]
    },
    {
     "data": {
      "text/html": [
       "<div>\n",
       "<style scoped>\n",
       "    .dataframe tbody tr th:only-of-type {\n",
       "        vertical-align: middle;\n",
       "    }\n",
       "\n",
       "    .dataframe tbody tr th {\n",
       "        vertical-align: top;\n",
       "    }\n",
       "\n",
       "    .dataframe thead th {\n",
       "        text-align: right;\n",
       "    }\n",
       "</style>\n",
       "<table border=\"1\" class=\"dataframe\">\n",
       "  <thead>\n",
       "    <tr style=\"text-align: right;\">\n",
       "      <th></th>\n",
       "      <th>event_time</th>\n",
       "      <th>event_type</th>\n",
       "      <th>product_id</th>\n",
       "      <th>category_code</th>\n",
       "      <th>brand</th>\n",
       "      <th>price</th>\n",
       "      <th>user_id</th>\n",
       "      <th>user_session</th>\n",
       "      <th>purchase</th>\n",
       "    </tr>\n",
       "  </thead>\n",
       "  <tbody>\n",
       "    <tr>\n",
       "      <th>67501970</th>\n",
       "      <td>2019-11-30 23:59:55+00:00</td>\n",
       "      <td>view</td>\n",
       "      <td>5159</td>\n",
       "      <td>furniture.kitchen.table</td>\n",
       "      <td>aero</td>\n",
       "      <td>1106.85</td>\n",
       "      <td>3617366</td>\n",
       "      <td>13772890</td>\n",
       "      <td>0</td>\n",
       "    </tr>\n",
       "    <tr>\n",
       "      <th>67501971</th>\n",
       "      <td>2019-11-30 23:59:57+00:00</td>\n",
       "      <td>view</td>\n",
       "      <td>15859</td>\n",
       "      <td>electronics.telephone</td>\n",
       "      <td>prestigio</td>\n",
       "      <td>8.37</td>\n",
       "      <td>3696100</td>\n",
       "      <td>13774792</td>\n",
       "      <td>0</td>\n",
       "    </tr>\n",
       "    <tr>\n",
       "      <th>67501972</th>\n",
       "      <td>2019-11-30 23:59:57+00:00</td>\n",
       "      <td>view</td>\n",
       "      <td>24382</td>\n",
       "      <td>construction.tools.drill</td>\n",
       "      <td>bosch</td>\n",
       "      <td>266.16</td>\n",
       "      <td>2546436</td>\n",
       "      <td>13769777</td>\n",
       "      <td>0</td>\n",
       "    </tr>\n",
       "    <tr>\n",
       "      <th>67501973</th>\n",
       "      <td>2019-11-30 23:59:57+00:00</td>\n",
       "      <td>view</td>\n",
       "      <td>857</td>\n",
       "      <td>NaN</td>\n",
       "      <td>NaN</td>\n",
       "      <td>29.60</td>\n",
       "      <td>1719499</td>\n",
       "      <td>13771312</td>\n",
       "      <td>0</td>\n",
       "    </tr>\n",
       "    <tr>\n",
       "      <th>67501978</th>\n",
       "      <td>2019-11-30 23:59:59+00:00</td>\n",
       "      <td>view</td>\n",
       "      <td>23937</td>\n",
       "      <td>electronics.smartphone</td>\n",
       "      <td>apple</td>\n",
       "      <td>1312.52</td>\n",
       "      <td>3696116</td>\n",
       "      <td>13771164</td>\n",
       "      <td>0</td>\n",
       "    </tr>\n",
       "  </tbody>\n",
       "</table>\n",
       "</div>"
      ],
      "text/plain": [
       "                        event_time event_type product_id  \\\n",
       "67501970 2019-11-30 23:59:55+00:00       view       5159   \n",
       "67501971 2019-11-30 23:59:57+00:00       view      15859   \n",
       "67501972 2019-11-30 23:59:57+00:00       view      24382   \n",
       "67501973 2019-11-30 23:59:57+00:00       view        857   \n",
       "67501978 2019-11-30 23:59:59+00:00       view      23937   \n",
       "\n",
       "                     category_code      brand    price  user_id user_session  \\\n",
       "67501970   furniture.kitchen.table       aero  1106.85  3617366     13772890   \n",
       "67501971     electronics.telephone  prestigio     8.37  3696100     13774792   \n",
       "67501972  construction.tools.drill      bosch   266.16  2546436     13769777   \n",
       "67501973                       NaN        NaN    29.60  1719499     13771312   \n",
       "67501978    electronics.smartphone      apple  1312.52  3696116     13771164   \n",
       "\n",
       "          purchase  \n",
       "67501970         0  \n",
       "67501971         0  \n",
       "67501972         0  \n",
       "67501973         0  \n",
       "67501978         0  "
      ]
     },
     "execution_count": 31,
     "metadata": {},
     "output_type": "execute_result"
    }
   ],
   "source": [
    "df_targets = df.drop_duplicates(subset=['event_type', 'product_id', 'user_id', 'user_session'])\n",
    "print(df_targets.shape)\n",
    "print(df_targets.columns)\n",
    "print(df_targets.dtypes)\n",
    "df_targets.tail()"
   ]
  },
  {
   "cell_type": "code",
   "execution_count": 32,
   "metadata": {
    "scrolled": true
   },
   "outputs": [
    {
     "name": "stdout",
     "output_type": "stream",
     "text": [
      "127\n"
     ]
    },
    {
     "data": {
      "text/plain": [
       "electronics.smartphone          10672788\n",
       "apparel.shoes                    1480471\n",
       "electronics.clocks               1426793\n",
       "computers.notebook               1358579\n",
       "electronics.video.tv             1285448\n",
       "                                  ...   \n",
       "apparel.shorts                       561\n",
       "construction.tools.screw             121\n",
       "appliances.kitchen.fryer              68\n",
       "country_yard.furniture.bench           2\n",
       "apparel.jacket                         1\n",
       "Name: category_code, Length: 129, dtype: int64"
      ]
     },
     "execution_count": 32,
     "metadata": {},
     "output_type": "execute_result"
    }
   ],
   "source": [
    "print(df_targets[\"category_code\"].sample(frac=0.01).nunique())\n",
    "df_targets[\"category_code\"].value_counts()"
   ]
  },
  {
   "cell_type": "code",
   "execution_count": 33,
   "metadata": {},
   "outputs": [
    {
     "name": "stdout",
     "output_type": "stream",
     "text": [
      "13\n"
     ]
    },
    {
     "data": {
      "text/plain": [
       "electronics     15526294\n",
       "appliances       5072242\n",
       "computers        2644624\n",
       "apparel          2449721\n",
       "furniture        1473797\n",
       "auto              756348\n",
       "construction      678286\n",
       "kids              582894\n",
       "accessories       310619\n",
       "sport             163900\n",
       "medicine           12346\n",
       "country_yard       11217\n",
       "stationery          8432\n",
       "Name: category_code_level1, dtype: int64"
      ]
     },
     "execution_count": 33,
     "metadata": {},
     "output_type": "execute_result"
    }
   ],
   "source": [
    "df_targets[\"category_code_level1\"] = df_targets[\"category_code\"].str.split(\".\",expand=True)[0].astype('category')\n",
    "\n",
    "print(df_targets[\"category_code_level1\"].nunique())\n",
    "df_targets[\"category_code_level1\"].value_counts()"
   ]
  },
  {
   "cell_type": "code",
   "execution_count": 34,
   "metadata": {},
   "outputs": [
    {
     "name": "stdout",
     "output_type": "stream",
     "text": [
      "<class 'pandas.core.frame.DataFrame'>\n",
      "Int64Index: 44861467 entries, 0 to 67501978\n",
      "Data columns (total 10 columns):\n",
      " #   Column                Dtype              \n",
      "---  ------                -----              \n",
      " 0   event_time            datetime64[ns, UTC]\n",
      " 1   event_type            category           \n",
      " 2   product_id            category           \n",
      " 3   category_code         category           \n",
      " 4   brand                 category           \n",
      " 5   price                 float64            \n",
      " 6   user_id               category           \n",
      " 7   user_session          category           \n",
      " 8   purchase              int32              \n",
      " 9   category_code_level1  category           \n",
      "dtypes: category(7), datetime64[ns, UTC](1), float64(1), int32(1)\n",
      "memory usage: 2.8 GB\n"
     ]
    }
   ],
   "source": [
    "df_targets.info()"
   ]
  },
  {
   "cell_type": "code",
   "execution_count": 36,
   "metadata": {},
   "outputs": [],
   "source": [
    "df_targets.to_csv(\"input/ecommerce-behavior/2019-Nov_Prep.csv\", na_rep='NaN', index=False)"
   ]
  },
  {
   "cell_type": "code",
   "execution_count": 1,
   "metadata": {},
   "outputs": [],
   "source": [
    "import pandas as pd\n",
    "import matplotlib.pyplot as plt\n",
    "import seaborn as sns\n",
    "import numpy as np\n",
    "from scipy.stats import norm\n",
    "from sklearn.preprocessing import StandardScaler\n",
    "from scipy import stats\n",
    "import warnings\n",
    "warnings.filterwarnings('ignore')\n",
    "%matplotlib inline"
   ]
  },
  {
   "cell_type": "code",
   "execution_count": 2,
   "metadata": {},
   "outputs": [],
   "source": [
    "categorical_dtypes = {\n",
    "    'event_type':'category', 'product_id':'category',\n",
    "    'category_code':'category', 'brand':'category', \n",
    "    'user_id':'category', 'user_session':'category'\n",
    "}"
   ]
  },
  {
   "cell_type": "code",
   "execution_count": 3,
   "metadata": {},
   "outputs": [],
   "source": [
    "df = pd.read_csv('input/ecommerce-behavior/2019-Nov_Prep.csv', dtype=categorical_dtypes)"
   ]
  },
  {
   "cell_type": "code",
   "execution_count": 5,
   "metadata": {},
   "outputs": [
    {
     "name": "stdout",
     "output_type": "stream",
     "text": [
      "<class 'pandas.core.frame.DataFrame'>\n",
      "RangeIndex: 44861467 entries, 0 to 44861466\n",
      "Data columns (total 10 columns):\n",
      " #   Column                Dtype              \n",
      "---  ------                -----              \n",
      " 0   event_time            datetime64[ns, UTC]\n",
      " 1   event_type            category           \n",
      " 2   product_id            category           \n",
      " 3   category_code         category           \n",
      " 4   brand                 category           \n",
      " 5   price                 float64            \n",
      " 6   user_id               category           \n",
      " 7   user_session          category           \n",
      " 8   purchase              int64              \n",
      " 9   category_code_level1  object             \n",
      "dtypes: category(6), datetime64[ns, UTC](1), float64(1), int64(1), object(1)\n",
      "memory usage: 3.0+ GB\n"
     ]
    }
   ],
   "source": [
    "df['event_time'] = pd.to_datetime(df['event_time'],infer_datetime_format=True)\n",
    "df.info()"
   ]
  },
  {
   "cell_type": "code",
   "execution_count": null,
   "metadata": {},
   "outputs": [],
   "source": []
  }
 ],
 "metadata": {
  "kernelspec": {
   "display_name": "Python 3.8.5 64-bit",
   "language": "python",
   "name": "python38564bit20f83f21d34e42fc85844838abbfee95"
  },
  "language_info": {
   "codemirror_mode": {
    "name": "ipython",
    "version": 3
   },
   "file_extension": ".py",
   "mimetype": "text/x-python",
   "name": "python",
   "nbconvert_exporter": "python",
   "pygments_lexer": "ipython3",
   "version": "3.8.5"
  }
 },
 "nbformat": 4,
 "nbformat_minor": 4
}
