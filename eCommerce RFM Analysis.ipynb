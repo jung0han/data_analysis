{
 "cells": [
  {
   "cell_type": "code",
   "execution_count": 1,
   "metadata": {},
   "outputs": [],
   "source": [
    "import pandas as pd\n",
    "import matplotlib.pyplot as plt\n",
    "import seaborn as sns\n",
    "import numpy as np\n",
    "%matplotlib inline"
   ]
  },
  {
   "cell_type": "markdown",
   "metadata": {},
   "source": [
    "### 1. Data Preparation\n",
    "\n",
    "**데이터 불러오기**\n",
    "- 메모리 사용량 최소화를 위해 Input 데이터 중 필요한 열을 고르고 데이터 타입을 정해서 불러옵니다."
   ]
  },
  {
   "cell_type": "code",
   "execution_count": 2,
   "metadata": {},
   "outputs": [
    {
     "data": {
      "text/html": [
       "<div>\n",
       "<style scoped>\n",
       "    .dataframe tbody tr th:only-of-type {\n",
       "        vertical-align: middle;\n",
       "    }\n",
       "\n",
       "    .dataframe tbody tr th {\n",
       "        vertical-align: top;\n",
       "    }\n",
       "\n",
       "    .dataframe thead th {\n",
       "        text-align: right;\n",
       "    }\n",
       "</style>\n",
       "<table border=\"1\" class=\"dataframe\">\n",
       "  <thead>\n",
       "    <tr style=\"text-align: right;\">\n",
       "      <th></th>\n",
       "      <th>event_time</th>\n",
       "      <th>event_type</th>\n",
       "      <th>product_id</th>\n",
       "      <th>category_id</th>\n",
       "      <th>category_code</th>\n",
       "      <th>brand</th>\n",
       "      <th>price</th>\n",
       "      <th>user_id</th>\n",
       "      <th>user_session</th>\n",
       "    </tr>\n",
       "  </thead>\n",
       "  <tbody>\n",
       "    <tr>\n",
       "      <th>0</th>\n",
       "      <td>2019-11-01 00:00:00 UTC</td>\n",
       "      <td>view</td>\n",
       "      <td>1003461</td>\n",
       "      <td>2053013555631882655</td>\n",
       "      <td>electronics.smartphone</td>\n",
       "      <td>xiaomi</td>\n",
       "      <td>489.07</td>\n",
       "      <td>520088904</td>\n",
       "      <td>4d3b30da-a5e4-49df-b1a8-ba5943f1dd33</td>\n",
       "    </tr>\n",
       "    <tr>\n",
       "      <th>1</th>\n",
       "      <td>2019-11-01 00:00:00 UTC</td>\n",
       "      <td>view</td>\n",
       "      <td>5000088</td>\n",
       "      <td>2053013566100866035</td>\n",
       "      <td>appliances.sewing_machine</td>\n",
       "      <td>janome</td>\n",
       "      <td>293.65</td>\n",
       "      <td>530496790</td>\n",
       "      <td>8e5f4f83-366c-4f70-860e-ca7417414283</td>\n",
       "    </tr>\n",
       "    <tr>\n",
       "      <th>2</th>\n",
       "      <td>2019-11-01 00:00:01 UTC</td>\n",
       "      <td>view</td>\n",
       "      <td>17302664</td>\n",
       "      <td>2053013553853497655</td>\n",
       "      <td>NaN</td>\n",
       "      <td>creed</td>\n",
       "      <td>28.31</td>\n",
       "      <td>561587266</td>\n",
       "      <td>755422e7-9040-477b-9bd2-6a6e8fd97387</td>\n",
       "    </tr>\n",
       "    <tr>\n",
       "      <th>3</th>\n",
       "      <td>2019-11-01 00:00:01 UTC</td>\n",
       "      <td>view</td>\n",
       "      <td>3601530</td>\n",
       "      <td>2053013563810775923</td>\n",
       "      <td>appliances.kitchen.washer</td>\n",
       "      <td>lg</td>\n",
       "      <td>712.87</td>\n",
       "      <td>518085591</td>\n",
       "      <td>3bfb58cd-7892-48cc-8020-2f17e6de6e7f</td>\n",
       "    </tr>\n",
       "    <tr>\n",
       "      <th>4</th>\n",
       "      <td>2019-11-01 00:00:01 UTC</td>\n",
       "      <td>view</td>\n",
       "      <td>1004775</td>\n",
       "      <td>2053013555631882655</td>\n",
       "      <td>electronics.smartphone</td>\n",
       "      <td>xiaomi</td>\n",
       "      <td>183.27</td>\n",
       "      <td>558856683</td>\n",
       "      <td>313628f1-68b8-460d-84f6-cec7a8796ef2</td>\n",
       "    </tr>\n",
       "  </tbody>\n",
       "</table>\n",
       "</div>"
      ],
      "text/plain": [
       "                event_time event_type  product_id          category_id  \\\n",
       "0  2019-11-01 00:00:00 UTC       view     1003461  2053013555631882655   \n",
       "1  2019-11-01 00:00:00 UTC       view     5000088  2053013566100866035   \n",
       "2  2019-11-01 00:00:01 UTC       view    17302664  2053013553853497655   \n",
       "3  2019-11-01 00:00:01 UTC       view     3601530  2053013563810775923   \n",
       "4  2019-11-01 00:00:01 UTC       view     1004775  2053013555631882655   \n",
       "\n",
       "               category_code   brand   price    user_id  \\\n",
       "0     electronics.smartphone  xiaomi  489.07  520088904   \n",
       "1  appliances.sewing_machine  janome  293.65  530496790   \n",
       "2                        NaN   creed   28.31  561587266   \n",
       "3  appliances.kitchen.washer      lg  712.87  518085591   \n",
       "4     electronics.smartphone  xiaomi  183.27  558856683   \n",
       "\n",
       "                           user_session  \n",
       "0  4d3b30da-a5e4-49df-b1a8-ba5943f1dd33  \n",
       "1  8e5f4f83-366c-4f70-860e-ca7417414283  \n",
       "2  755422e7-9040-477b-9bd2-6a6e8fd97387  \n",
       "3  3bfb58cd-7892-48cc-8020-2f17e6de6e7f  \n",
       "4  313628f1-68b8-460d-84f6-cec7a8796ef2  "
      ]
     },
     "execution_count": 2,
     "metadata": {},
     "output_type": "execute_result"
    }
   ],
   "source": [
    "df_head = pd.read_csv('input/ecommerce-behavior/2019-Nov.csv', nrows=5)\n",
    "df_head"
   ]
  },
  {
   "cell_type": "code",
   "execution_count": 25,
   "metadata": {},
   "outputs": [],
   "source": [
    "usecols = ['event_time', 'event_type', 'product_id', 'category_code', 'brand', 'price', 'user_id', 'user_session']\n",
    "\n",
    "categorical_dtypes = {\n",
    "    'event_type':'category', 'product_id':'category',\n",
    "    'category_code':'category', 'brand':'category', \n",
    "    'user_id':'category', 'user_session':'category'\n",
    "}"
   ]
  },
  {
   "cell_type": "code",
   "execution_count": 26,
   "metadata": {},
   "outputs": [
    {
     "name": "stdout",
     "output_type": "stream",
     "text": [
      "(67501979, 8)\n",
      "Index(['event_time', 'event_type', 'product_id', 'category_code', 'brand',\n",
      "       'price', 'user_id', 'user_session'],\n",
      "      dtype='object')\n",
      "event_time         object\n",
      "event_type       category\n",
      "product_id       category\n",
      "category_code    category\n",
      "brand            category\n",
      "price             float64\n",
      "user_id          category\n",
      "user_session     category\n",
      "dtype: object\n"
     ]
    },
    {
     "data": {
      "text/html": [
       "<div>\n",
       "<style scoped>\n",
       "    .dataframe tbody tr th:only-of-type {\n",
       "        vertical-align: middle;\n",
       "    }\n",
       "\n",
       "    .dataframe tbody tr th {\n",
       "        vertical-align: top;\n",
       "    }\n",
       "\n",
       "    .dataframe thead th {\n",
       "        text-align: right;\n",
       "    }\n",
       "</style>\n",
       "<table border=\"1\" class=\"dataframe\">\n",
       "  <thead>\n",
       "    <tr style=\"text-align: right;\">\n",
       "      <th></th>\n",
       "      <th>event_time</th>\n",
       "      <th>event_type</th>\n",
       "      <th>product_id</th>\n",
       "      <th>category_code</th>\n",
       "      <th>brand</th>\n",
       "      <th>price</th>\n",
       "      <th>user_id</th>\n",
       "      <th>user_session</th>\n",
       "    </tr>\n",
       "  </thead>\n",
       "  <tbody>\n",
       "    <tr>\n",
       "      <th>67501974</th>\n",
       "      <td>2019-11-30 23:59:58 UTC</td>\n",
       "      <td>view</td>\n",
       "      <td>15700137</td>\n",
       "      <td>NaN</td>\n",
       "      <td>NaN</td>\n",
       "      <td>277.74</td>\n",
       "      <td>532714000</td>\n",
       "      <td>02b4131c-0112-4231-aafa-ceaa08e77c1b</td>\n",
       "    </tr>\n",
       "    <tr>\n",
       "      <th>67501975</th>\n",
       "      <td>2019-11-30 23:59:58 UTC</td>\n",
       "      <td>view</td>\n",
       "      <td>28719425</td>\n",
       "      <td>apparel.shoes</td>\n",
       "      <td>baden</td>\n",
       "      <td>62.81</td>\n",
       "      <td>545223467</td>\n",
       "      <td>734c5eef-0742-4f8b-9d22-48f75b0bc359</td>\n",
       "    </tr>\n",
       "    <tr>\n",
       "      <th>67501976</th>\n",
       "      <td>2019-11-30 23:59:59 UTC</td>\n",
       "      <td>view</td>\n",
       "      <td>1004833</td>\n",
       "      <td>electronics.smartphone</td>\n",
       "      <td>samsung</td>\n",
       "      <td>167.03</td>\n",
       "      <td>557794415</td>\n",
       "      <td>6fecf566-ebb0-4e70-a243-cdc13ce044cb</td>\n",
       "    </tr>\n",
       "    <tr>\n",
       "      <th>67501977</th>\n",
       "      <td>2019-11-30 23:59:59 UTC</td>\n",
       "      <td>view</td>\n",
       "      <td>2701706</td>\n",
       "      <td>appliances.kitchen.refrigerators</td>\n",
       "      <td>samsung</td>\n",
       "      <td>566.27</td>\n",
       "      <td>531607492</td>\n",
       "      <td>368ddc8b-5db9-40fb-b7ff-b6582a1192c0</td>\n",
       "    </tr>\n",
       "    <tr>\n",
       "      <th>67501978</th>\n",
       "      <td>2019-11-30 23:59:59 UTC</td>\n",
       "      <td>view</td>\n",
       "      <td>1004233</td>\n",
       "      <td>electronics.smartphone</td>\n",
       "      <td>apple</td>\n",
       "      <td>1312.52</td>\n",
       "      <td>579969851</td>\n",
       "      <td>90aca71c-ed8a-4670-866a-761ebacb732d</td>\n",
       "    </tr>\n",
       "  </tbody>\n",
       "</table>\n",
       "</div>"
      ],
      "text/plain": [
       "                       event_time event_type product_id  \\\n",
       "67501974  2019-11-30 23:59:58 UTC       view   15700137   \n",
       "67501975  2019-11-30 23:59:58 UTC       view   28719425   \n",
       "67501976  2019-11-30 23:59:59 UTC       view    1004833   \n",
       "67501977  2019-11-30 23:59:59 UTC       view    2701706   \n",
       "67501978  2019-11-30 23:59:59 UTC       view    1004233   \n",
       "\n",
       "                             category_code    brand    price    user_id  \\\n",
       "67501974                               NaN      NaN   277.74  532714000   \n",
       "67501975                     apparel.shoes    baden    62.81  545223467   \n",
       "67501976            electronics.smartphone  samsung   167.03  557794415   \n",
       "67501977  appliances.kitchen.refrigerators  samsung   566.27  531607492   \n",
       "67501978            electronics.smartphone    apple  1312.52  579969851   \n",
       "\n",
       "                                  user_session  \n",
       "67501974  02b4131c-0112-4231-aafa-ceaa08e77c1b  \n",
       "67501975  734c5eef-0742-4f8b-9d22-48f75b0bc359  \n",
       "67501976  6fecf566-ebb0-4e70-a243-cdc13ce044cb  \n",
       "67501977  368ddc8b-5db9-40fb-b7ff-b6582a1192c0  \n",
       "67501978  90aca71c-ed8a-4670-866a-761ebacb732d  "
      ]
     },
     "execution_count": 26,
     "metadata": {},
     "output_type": "execute_result"
    }
   ],
   "source": [
    "df = pd.read_csv('input/ecommerce-behavior/2019-Nov.csv', dtype=categorical_dtypes, usecols=usecols)\n",
    "print(df.shape)\n",
    "print(df.columns)\n",
    "print(df.dtypes)\n",
    "df.tail()"
   ]
  },
  {
   "cell_type": "markdown",
   "metadata": {},
   "source": [
    "**데이터 분류하기**\n",
    "- 분석을 하기에 적합한 형태로 데이터를 변환 해 줍니다.\n",
    "\n",
    "구매율 분석이 용이하도록 purchase 열을 추가하고 view, cart는 0으로 purchase는 1으로 분류합니다."
   ]
  },
  {
   "cell_type": "code",
   "execution_count": 28,
   "metadata": {},
   "outputs": [
    {
     "name": "stdout",
     "output_type": "stream",
     "text": [
      "3\n"
     ]
    },
    {
     "data": {
      "text/plain": [
       "view        63556110\n",
       "cart         3028930\n",
       "purchase      916939\n",
       "Name: event_type, dtype: int64"
      ]
     },
     "execution_count": 28,
     "metadata": {},
     "output_type": "execute_result"
    }
   ],
   "source": [
    "print(df[\"event_type\"].sample(frac=0.01).nunique())\n",
    "df[\"event_type\"].value_counts()"
   ]
  },
  {
   "cell_type": "code",
   "execution_count": 29,
   "metadata": {},
   "outputs": [
    {
     "name": "stdout",
     "output_type": "stream",
     "text": [
      "purchase           0       1\n",
      "event_type                  \n",
      "cart         3028930       0\n",
      "purchase           0  916939\n",
      "view        63556110       0\n"
     ]
    }
   ],
   "source": [
    "df['purchase'] = np.where(df[\"event_type\"]==\"purchase\", 1, 0)\n",
    "print(pd.crosstab(df['event_type'], df['purchase']))"
   ]
  },
  {
   "cell_type": "markdown",
   "metadata": {},
   "source": [
    "메모리 사용량 최소화를 위해 user_session, user_id, product_id의 고유 번호를 다시 지정해 줍니다."
   ]
  },
  {
   "cell_type": "code",
   "execution_count": 30,
   "metadata": {},
   "outputs": [
    {
     "data": {
      "text/html": [
       "<div>\n",
       "<style scoped>\n",
       "    .dataframe tbody tr th:only-of-type {\n",
       "        vertical-align: middle;\n",
       "    }\n",
       "\n",
       "    .dataframe tbody tr th {\n",
       "        vertical-align: top;\n",
       "    }\n",
       "\n",
       "    .dataframe thead th {\n",
       "        text-align: right;\n",
       "    }\n",
       "</style>\n",
       "<table border=\"1\" class=\"dataframe\">\n",
       "  <thead>\n",
       "    <tr style=\"text-align: right;\">\n",
       "      <th></th>\n",
       "      <th>event_time</th>\n",
       "      <th>event_type</th>\n",
       "      <th>product_id</th>\n",
       "      <th>category_code</th>\n",
       "      <th>brand</th>\n",
       "      <th>price</th>\n",
       "      <th>user_id</th>\n",
       "      <th>user_session</th>\n",
       "      <th>purchase</th>\n",
       "    </tr>\n",
       "  </thead>\n",
       "  <tbody>\n",
       "    <tr>\n",
       "      <th>67501974</th>\n",
       "      <td>2019-11-30 23:59:58+00:00</td>\n",
       "      <td>view</td>\n",
       "      <td>4628</td>\n",
       "      <td>NaN</td>\n",
       "      <td>NaN</td>\n",
       "      <td>277.74</td>\n",
       "      <td>2281153</td>\n",
       "      <td>13764788</td>\n",
       "      <td>0</td>\n",
       "    </tr>\n",
       "    <tr>\n",
       "      <th>67501975</th>\n",
       "      <td>2019-11-30 23:59:58+00:00</td>\n",
       "      <td>view</td>\n",
       "      <td>37808</td>\n",
       "      <td>apparel.shoes</td>\n",
       "      <td>baden</td>\n",
       "      <td>62.81</td>\n",
       "      <td>227720</td>\n",
       "      <td>13769867</td>\n",
       "      <td>0</td>\n",
       "    </tr>\n",
       "    <tr>\n",
       "      <th>67501976</th>\n",
       "      <td>2019-11-30 23:59:59+00:00</td>\n",
       "      <td>view</td>\n",
       "      <td>417</td>\n",
       "      <td>electronics.smartphone</td>\n",
       "      <td>samsung</td>\n",
       "      <td>167.03</td>\n",
       "      <td>3613608</td>\n",
       "      <td>13769709</td>\n",
       "      <td>0</td>\n",
       "    </tr>\n",
       "    <tr>\n",
       "      <th>67501977</th>\n",
       "      <td>2019-11-30 23:59:59+00:00</td>\n",
       "      <td>view</td>\n",
       "      <td>9047</td>\n",
       "      <td>appliances.kitchen.refrigerators</td>\n",
       "      <td>samsung</td>\n",
       "      <td>566.27</td>\n",
       "      <td>460280</td>\n",
       "      <td>13767080</td>\n",
       "      <td>0</td>\n",
       "    </tr>\n",
       "    <tr>\n",
       "      <th>67501978</th>\n",
       "      <td>2019-11-30 23:59:59+00:00</td>\n",
       "      <td>view</td>\n",
       "      <td>23937</td>\n",
       "      <td>electronics.smartphone</td>\n",
       "      <td>apple</td>\n",
       "      <td>1312.52</td>\n",
       "      <td>3696116</td>\n",
       "      <td>13771164</td>\n",
       "      <td>0</td>\n",
       "    </tr>\n",
       "  </tbody>\n",
       "</table>\n",
       "</div>"
      ],
      "text/plain": [
       "                        event_time event_type product_id  \\\n",
       "67501974 2019-11-30 23:59:58+00:00       view       4628   \n",
       "67501975 2019-11-30 23:59:58+00:00       view      37808   \n",
       "67501976 2019-11-30 23:59:59+00:00       view        417   \n",
       "67501977 2019-11-30 23:59:59+00:00       view       9047   \n",
       "67501978 2019-11-30 23:59:59+00:00       view      23937   \n",
       "\n",
       "                             category_code    brand    price  user_id  \\\n",
       "67501974                               NaN      NaN   277.74  2281153   \n",
       "67501975                     apparel.shoes    baden    62.81   227720   \n",
       "67501976            electronics.smartphone  samsung   167.03  3613608   \n",
       "67501977  appliances.kitchen.refrigerators  samsung   566.27   460280   \n",
       "67501978            electronics.smartphone    apple  1312.52  3696116   \n",
       "\n",
       "         user_session  purchase  \n",
       "67501974     13764788         0  \n",
       "67501975     13769867         0  \n",
       "67501976     13769709         0  \n",
       "67501977     13767080         0  \n",
       "67501978     13771164         0  "
      ]
     },
     "execution_count": 30,
     "metadata": {},
     "output_type": "execute_result"
    }
   ],
   "source": [
    "df['user_session'] = df['user_session'].astype('category').cat.codes.astype('category')\n",
    "df['user_id'] = df['user_id'].astype('category').cat.codes.astype('category')\n",
    "df['product_id'] = df['product_id'].astype('category').cat.codes.astype('category')\n",
    "df.tail()"
   ]
  },
  {
   "cell_type": "markdown",
   "metadata": {},
   "source": [
    "동일한 세션에서 동일 제품에 대해 중복된 활동을 한 경우 해당 행을 제거해 줍니다.\n",
    "해당 데이터는 쿠폰 적용을 위해 동일 제품을 다시 구매하거나 뒤로가기 버튼을 눌러 이전 페이지에 접속했던 이력으로 예상됩니다."
   ]
  },
  {
   "cell_type": "code",
   "execution_count": 31,
   "metadata": {},
   "outputs": [
    {
     "name": "stdout",
     "output_type": "stream",
     "text": [
      "(44861467, 9)\n",
      "Index(['event_time', 'event_type', 'product_id', 'category_code', 'brand',\n",
      "       'price', 'user_id', 'user_session', 'purchase'],\n",
      "      dtype='object')\n",
      "event_time       datetime64[ns, UTC]\n",
      "event_type                  category\n",
      "product_id                  category\n",
      "category_code               category\n",
      "brand                       category\n",
      "price                        float64\n",
      "user_id                     category\n",
      "user_session                category\n",
      "purchase                       int32\n",
      "dtype: object\n"
     ]
    },
    {
     "data": {
      "text/html": [
       "<div>\n",
       "<style scoped>\n",
       "    .dataframe tbody tr th:only-of-type {\n",
       "        vertical-align: middle;\n",
       "    }\n",
       "\n",
       "    .dataframe tbody tr th {\n",
       "        vertical-align: top;\n",
       "    }\n",
       "\n",
       "    .dataframe thead th {\n",
       "        text-align: right;\n",
       "    }\n",
       "</style>\n",
       "<table border=\"1\" class=\"dataframe\">\n",
       "  <thead>\n",
       "    <tr style=\"text-align: right;\">\n",
       "      <th></th>\n",
       "      <th>event_time</th>\n",
       "      <th>event_type</th>\n",
       "      <th>product_id</th>\n",
       "      <th>category_code</th>\n",
       "      <th>brand</th>\n",
       "      <th>price</th>\n",
       "      <th>user_id</th>\n",
       "      <th>user_session</th>\n",
       "      <th>purchase</th>\n",
       "    </tr>\n",
       "  </thead>\n",
       "  <tbody>\n",
       "    <tr>\n",
       "      <th>67501970</th>\n",
       "      <td>2019-11-30 23:59:55+00:00</td>\n",
       "      <td>view</td>\n",
       "      <td>5159</td>\n",
       "      <td>furniture.kitchen.table</td>\n",
       "      <td>aero</td>\n",
       "      <td>1106.85</td>\n",
       "      <td>3617366</td>\n",
       "      <td>13772890</td>\n",
       "      <td>0</td>\n",
       "    </tr>\n",
       "    <tr>\n",
       "      <th>67501971</th>\n",
       "      <td>2019-11-30 23:59:57+00:00</td>\n",
       "      <td>view</td>\n",
       "      <td>15859</td>\n",
       "      <td>electronics.telephone</td>\n",
       "      <td>prestigio</td>\n",
       "      <td>8.37</td>\n",
       "      <td>3696100</td>\n",
       "      <td>13774792</td>\n",
       "      <td>0</td>\n",
       "    </tr>\n",
       "    <tr>\n",
       "      <th>67501972</th>\n",
       "      <td>2019-11-30 23:59:57+00:00</td>\n",
       "      <td>view</td>\n",
       "      <td>24382</td>\n",
       "      <td>construction.tools.drill</td>\n",
       "      <td>bosch</td>\n",
       "      <td>266.16</td>\n",
       "      <td>2546436</td>\n",
       "      <td>13769777</td>\n",
       "      <td>0</td>\n",
       "    </tr>\n",
       "    <tr>\n",
       "      <th>67501973</th>\n",
       "      <td>2019-11-30 23:59:57+00:00</td>\n",
       "      <td>view</td>\n",
       "      <td>857</td>\n",
       "      <td>NaN</td>\n",
       "      <td>NaN</td>\n",
       "      <td>29.60</td>\n",
       "      <td>1719499</td>\n",
       "      <td>13771312</td>\n",
       "      <td>0</td>\n",
       "    </tr>\n",
       "    <tr>\n",
       "      <th>67501978</th>\n",
       "      <td>2019-11-30 23:59:59+00:00</td>\n",
       "      <td>view</td>\n",
       "      <td>23937</td>\n",
       "      <td>electronics.smartphone</td>\n",
       "      <td>apple</td>\n",
       "      <td>1312.52</td>\n",
       "      <td>3696116</td>\n",
       "      <td>13771164</td>\n",
       "      <td>0</td>\n",
       "    </tr>\n",
       "  </tbody>\n",
       "</table>\n",
       "</div>"
      ],
      "text/plain": [
       "                        event_time event_type product_id  \\\n",
       "67501970 2019-11-30 23:59:55+00:00       view       5159   \n",
       "67501971 2019-11-30 23:59:57+00:00       view      15859   \n",
       "67501972 2019-11-30 23:59:57+00:00       view      24382   \n",
       "67501973 2019-11-30 23:59:57+00:00       view        857   \n",
       "67501978 2019-11-30 23:59:59+00:00       view      23937   \n",
       "\n",
       "                     category_code      brand    price  user_id user_session  \\\n",
       "67501970   furniture.kitchen.table       aero  1106.85  3617366     13772890   \n",
       "67501971     electronics.telephone  prestigio     8.37  3696100     13774792   \n",
       "67501972  construction.tools.drill      bosch   266.16  2546436     13769777   \n",
       "67501973                       NaN        NaN    29.60  1719499     13771312   \n",
       "67501978    electronics.smartphone      apple  1312.52  3696116     13771164   \n",
       "\n",
       "          purchase  \n",
       "67501970         0  \n",
       "67501971         0  \n",
       "67501972         0  \n",
       "67501973         0  \n",
       "67501978         0  "
      ]
     },
     "execution_count": 31,
     "metadata": {},
     "output_type": "execute_result"
    }
   ],
   "source": [
    "df_targets = df.drop_duplicates(subset=['event_type', 'product_id', 'user_id', 'user_session'])\n",
    "print(df_targets.shape)\n",
    "print(df_targets.columns)\n",
    "print(df_targets.dtypes)\n",
    "df_targets.tail()"
   ]
  },
  {
   "cell_type": "markdown",
   "metadata": {},
   "source": [
    "제품의 종류를 구분하기 위해 category_code의 종류를 확인합니다."
   ]
  },
  {
   "cell_type": "code",
   "execution_count": 32,
   "metadata": {
    "scrolled": true
   },
   "outputs": [
    {
     "name": "stdout",
     "output_type": "stream",
     "text": [
      "127\n"
     ]
    },
    {
     "data": {
      "text/plain": [
       "electronics.smartphone          10672788\n",
       "apparel.shoes                    1480471\n",
       "electronics.clocks               1426793\n",
       "computers.notebook               1358579\n",
       "electronics.video.tv             1285448\n",
       "                                  ...   \n",
       "apparel.shorts                       561\n",
       "construction.tools.screw             121\n",
       "appliances.kitchen.fryer              68\n",
       "country_yard.furniture.bench           2\n",
       "apparel.jacket                         1\n",
       "Name: category_code, Length: 129, dtype: int64"
      ]
     },
     "execution_count": 32,
     "metadata": {},
     "output_type": "execute_result"
    }
   ],
   "source": [
    "print(df_targets[\"category_code\"].sample(frac=0.01).nunique())\n",
    "df_targets[\"category_code\"].value_counts()"
   ]
  },
  {
   "cell_type": "markdown",
   "metadata": {},
   "source": [
    "카테고리가 129개 종류로 데이터 분석에 용이하지 않으므로 Level1 카테고리를 추가 해 줍니다."
   ]
  },
  {
   "cell_type": "code",
   "execution_count": 33,
   "metadata": {},
   "outputs": [
    {
     "name": "stdout",
     "output_type": "stream",
     "text": [
      "13\n"
     ]
    },
    {
     "data": {
      "text/plain": [
       "electronics     15526294\n",
       "appliances       5072242\n",
       "computers        2644624\n",
       "apparel          2449721\n",
       "furniture        1473797\n",
       "auto              756348\n",
       "construction      678286\n",
       "kids              582894\n",
       "accessories       310619\n",
       "sport             163900\n",
       "medicine           12346\n",
       "country_yard       11217\n",
       "stationery          8432\n",
       "Name: category_code_level1, dtype: int64"
      ]
     },
     "execution_count": 33,
     "metadata": {},
     "output_type": "execute_result"
    }
   ],
   "source": [
    "df_targets[\"category_code_level1\"] = df_targets[\"category_code\"].str.split(\".\",expand=True)[0].astype('category')\n",
    "\n",
    "print(df_targets[\"category_code_level1\"].nunique())\n",
    "df_targets[\"category_code_level1\"].value_counts()"
   ]
  },
  {
   "cell_type": "markdown",
   "metadata": {},
   "source": [
    "분류가 완료된 데이터를 \"2019-Nov_Prep.csv\"로 저장 해 줍니다."
   ]
  },
  {
   "cell_type": "code",
   "execution_count": 36,
   "metadata": {},
   "outputs": [],
   "source": [
    "df_targets.to_csv(\"input/ecommerce-behavior/2019-Nov_Prep.csv\", na_rep='NaN', index=False)"
   ]
  },
  {
   "cell_type": "markdown",
   "metadata": {},
   "source": [
    "메모리 재할당을 위해 커널을 다시 시작합니다. 16GB 메모리는 데이터 분석에 충분하지 않습니다.."
   ]
  },
  {
   "cell_type": "code",
   "execution_count": 1,
   "metadata": {},
   "outputs": [],
   "source": [
    "import pandas as pd\n",
    "import datetime as dt\n",
    "import matplotlib.pyplot as plt\n",
    "import seaborn as sns\n",
    "import numpy as np\n",
    "\n",
    "%matplotlib inline"
   ]
  },
  {
   "cell_type": "code",
   "execution_count": 2,
   "metadata": {},
   "outputs": [],
   "source": [
    "categorical_dtypes = {\n",
    "    'event_type':'category', 'product_id':'category',\n",
    "    'category_code':'category', 'brand':'category', \n",
    "    'user_id':'category', 'user_session':'category'\n",
    "}"
   ]
  },
  {
   "cell_type": "code",
   "execution_count": 3,
   "metadata": {},
   "outputs": [],
   "source": [
    "df = pd.read_csv('input/ecommerce-behavior/2019-Nov_Prep.csv', dtype=categorical_dtypes)"
   ]
  },
  {
   "cell_type": "markdown",
   "metadata": {},
   "source": [
    "요일, 시간열 추가를 위해 event_time 열을 datetime format으로 변경해 줍니다."
   ]
  },
  {
   "cell_type": "code",
   "execution_count": 4,
   "metadata": {},
   "outputs": [
    {
     "name": "stdout",
     "output_type": "stream",
     "text": [
      "<class 'pandas.core.frame.DataFrame'>\n",
      "RangeIndex: 44861467 entries, 0 to 44861466\n",
      "Data columns (total 10 columns):\n",
      " #   Column                Dtype              \n",
      "---  ------                -----              \n",
      " 0   event_time            datetime64[ns, UTC]\n",
      " 1   event_type            category           \n",
      " 2   product_id            category           \n",
      " 3   category_code         category           \n",
      " 4   brand                 category           \n",
      " 5   price                 float64            \n",
      " 6   user_id               category           \n",
      " 7   user_session          category           \n",
      " 8   purchase              int64              \n",
      " 9   category_code_level1  object             \n",
      "dtypes: category(6), datetime64[ns, UTC](1), float64(1), int64(1), object(1)\n",
      "memory usage: 3.0+ GB\n"
     ]
    }
   ],
   "source": [
    "df['event_time'] = pd.to_datetime(df['event_time'],infer_datetime_format=True)\n",
    "df.info()"
   ]
  },
  {
   "cell_type": "markdown",
   "metadata": {},
   "source": [
    "lambda 함수를 이용해 요일과 시간을 새로운 열으로 분리 해 줍니다."
   ]
  },
  {
   "cell_type": "code",
   "execution_count": 51,
   "metadata": {},
   "outputs": [],
   "source": [
    "df['event_dayofweek'] = df['event_time'].apply(lambda x: x.dayofweek)\n",
    "df['event_hour'] = df['event_time'].apply(lambda x: x.hour)\n",
    "\n",
    "hours_bins = [-0.1, 6, 12, 18, 23]\n",
    "hours_labels = ['Dawn', 'Morning', 'Afternoon', 'Night']\n",
    "df['event_time_day'] = pd.cut(df['event_hour'], hours_bins, labels=hours_labels)"
   ]
  },
  {
   "cell_type": "markdown",
   "metadata": {},
   "source": [
    "### 데이터 분석\n",
    "\n",
    "**구매율 및 평균 구매 가격 분석**\n",
    "- 앞서 분류한 열을 이용하여 구매율과 평균 가격을 비교해줍니다.\n",
    "\n",
    "구매 시간별 가격평균을 확인해 본 결과 저녁에 구매 금액 평균이 다소 높았습니다.\n",
    "구매 시간별 구매율을 확인해 본 결과 아침에 상품을 보거나 카트에 넣은 횟수 대비 상품을 구매한 비율이 높았습니다."
   ]
  },
  {
   "cell_type": "code",
   "execution_count": 16,
   "metadata": {
    "scrolled": false
   },
   "outputs": [
    {
     "name": "stdout",
     "output_type": "stream",
     "text": [
      "  event_time_day       price\n",
      "0           Dawn  291.634065\n",
      "1        Morning  296.801041\n",
      "2      Afternoon  296.373512\n",
      "3          Night  312.143396\n"
     ]
    }
   ],
   "source": [
    "print (df[[\"event_time_day\", \"price\"]].groupby(['event_time_day'], as_index=False).mean())"
   ]
  },
  {
   "cell_type": "code",
   "execution_count": 52,
   "metadata": {},
   "outputs": [
    {
     "name": "stdout",
     "output_type": "stream",
     "text": [
      "  event_time_day  purchase\n",
      "0           Dawn  0.018282\n",
      "1        Morning  0.025138\n",
      "2      Afternoon  0.016242\n",
      "3          Night  0.010432\n"
     ]
    }
   ],
   "source": [
    "print (df[[\"event_time_day\", \"purchase\"]].groupby(['event_time_day'], as_index=False).mean())"
   ]
  },
  {
   "cell_type": "markdown",
   "metadata": {},
   "source": [
    "구매 요일별 가격 평균을 확인 해 본 결과 유의미한 차이는 없었습니다.\n",
    "구매 요일별 구매율을 확인 해 본 결과 일요일의 구매율이 0.03으로 가장 높았습니다."
   ]
  },
  {
   "cell_type": "code",
   "execution_count": 53,
   "metadata": {},
   "outputs": [
    {
     "name": "stdout",
     "output_type": "stream",
     "text": [
      "   event_dayofweek       price\n",
      "0                0  290.936789\n",
      "1                1  288.321664\n",
      "2                2  288.114633\n",
      "3                3  295.396084\n",
      "4                4  295.913799\n",
      "5                5  297.730689\n",
      "6                6  293.933163\n"
     ]
    }
   ],
   "source": [
    "print (df[[\"event_dayofweek\", \"price\"]].groupby(['event_dayofweek'], as_index=False).mean())"
   ]
  },
  {
   "cell_type": "code",
   "execution_count": 54,
   "metadata": {},
   "outputs": [
    {
     "name": "stdout",
     "output_type": "stream",
     "text": [
      "   event_dayofweek  purchase\n",
      "0                0  0.019419\n",
      "1                1  0.018689\n",
      "2                2  0.018899\n",
      "3                3  0.016464\n",
      "4                4  0.011605\n",
      "5                5  0.017450\n",
      "6                6  0.031627\n"
     ]
    }
   ],
   "source": [
    "print (df[[\"event_dayofweek\", \"purchase\"]].groupby(['event_dayofweek'], as_index=False).mean())"
   ]
  },
  {
   "cell_type": "code",
   "execution_count": 55,
   "metadata": {
    "scrolled": true
   },
   "outputs": [
    {
     "name": "stdout",
     "output_type": "stream",
     "text": [
      "purchase               0       1\n",
      "event_dayofweek                 \n",
      "0                4952737   98080\n",
      "1                4745793   90383\n",
      "2                4711040   90750\n",
      "3                5380721   90071\n",
      "4                8315151   97634\n",
      "5                8608576  152889\n",
      "6                7289565  238077\n"
     ]
    }
   ],
   "source": [
    "print(pd.crosstab(df['event_dayofweek'], df['purchase']))"
   ]
  },
  {
   "cell_type": "markdown",
   "metadata": {},
   "source": [
    "**RFM 분석**\n",
    "- 고객의 과거 구매 이력을 바탕으로 고객군을 분류하는 기법으로 아래 3가지 기준으로 계산합니다.\n",
    "- 보통 과거 12개월을 대상으로하지만 메모리의 한계로 1개월 기준으로 분석하였습니다.\n",
    "\n",
    "**Recency** (거래의 최근성) : 고객이 얼마나 최근에 구입했는가?\n",
    "**Frequency** (거래빈도) : 고객이 얼마나 빈번하게 우리 상품을 구입했나? \n",
    "**Monetary** (거래규모) : 고객이 구입했던 총 금액은 어느 정도인가?\n",
    "\n",
    "최근성을 확인하기 위해 event_time의 가장 빠른날짜와 가장 늦은 날짜를 확인합니다."
   ]
  },
  {
   "cell_type": "code",
   "execution_count": 5,
   "metadata": {},
   "outputs": [
    {
     "name": "stdout",
     "output_type": "stream",
     "text": [
      "first date:  2019-11-01 00:00:00+00:00 \n",
      "last date:  2019-11-30 23:59:59+00:00\n"
     ]
    }
   ],
   "source": [
    "print(\"first date: \", df.event_time.min(), \n",
    "      \"\\nlast date: \",df.event_time.max())"
   ]
  },
  {
   "cell_type": "code",
   "execution_count": 6,
   "metadata": {},
   "outputs": [
    {
     "data": {
      "text/plain": [
       "Timestamp('2019-12-01 23:59:59+0000', tz='UTC')"
      ]
     },
     "execution_count": 6,
     "metadata": {},
     "output_type": "execute_result"
    }
   ],
   "source": [
    "snapshot_date = df.event_time.max() + dt.timedelta(days=1)\n",
    "snapshot_date"
   ]
  },
  {
   "cell_type": "markdown",
   "metadata": {},
   "source": [
    "가장 늦은 날짜에서 하루를 더하여 최근성 분류의 기준점으로 정합니다.\n",
    "\n",
    "최근성은 고객별 12월 1월 대비 가장 최근에 사용한 날짜로 계산합니다.\n",
    "거래빈도는 'user_session'의 횟수로 계산합니다.\n",
    "거래규모는 'price'의 합으로 계산합니다.\n",
    "\n",
    "RFM을 계산한 후 이름을 다시 분류하고 거래 규모를 기준으로 정렬합니다."
   ]
  },
  {
   "cell_type": "code",
   "execution_count": 7,
   "metadata": {},
   "outputs": [
    {
     "data": {
      "text/html": [
       "<div>\n",
       "<style scoped>\n",
       "    .dataframe tbody tr th:only-of-type {\n",
       "        vertical-align: middle;\n",
       "    }\n",
       "\n",
       "    .dataframe tbody tr th {\n",
       "        vertical-align: top;\n",
       "    }\n",
       "\n",
       "    .dataframe thead th {\n",
       "        text-align: right;\n",
       "    }\n",
       "</style>\n",
       "<table border=\"1\" class=\"dataframe\">\n",
       "  <thead>\n",
       "    <tr style=\"text-align: right;\">\n",
       "      <th></th>\n",
       "      <th>Recency</th>\n",
       "      <th>Frequency</th>\n",
       "      <th>MonetaryValue</th>\n",
       "    </tr>\n",
       "    <tr>\n",
       "      <th>user_id</th>\n",
       "      <th></th>\n",
       "      <th></th>\n",
       "      <th></th>\n",
       "    </tr>\n",
       "  </thead>\n",
       "  <tbody>\n",
       "    <tr>\n",
       "      <th>1245749</th>\n",
       "      <td>1</td>\n",
       "      <td>22630</td>\n",
       "      <td>5126416.0</td>\n",
       "    </tr>\n",
       "    <tr>\n",
       "      <th>13842</th>\n",
       "      <td>1</td>\n",
       "      <td>4659</td>\n",
       "      <td>1802144.0</td>\n",
       "    </tr>\n",
       "    <tr>\n",
       "      <th>1470805</th>\n",
       "      <td>1</td>\n",
       "      <td>14810</td>\n",
       "      <td>1655686.0</td>\n",
       "    </tr>\n",
       "    <tr>\n",
       "      <th>1365127</th>\n",
       "      <td>1</td>\n",
       "      <td>2407</td>\n",
       "      <td>1591572.0</td>\n",
       "    </tr>\n",
       "    <tr>\n",
       "      <th>1259156</th>\n",
       "      <td>1</td>\n",
       "      <td>2835</td>\n",
       "      <td>1560987.0</td>\n",
       "    </tr>\n",
       "  </tbody>\n",
       "</table>\n",
       "</div>"
      ],
      "text/plain": [
       "         Recency  Frequency  MonetaryValue\n",
       "user_id                                   \n",
       "1245749        1      22630      5126416.0\n",
       "13842          1       4659      1802144.0\n",
       "1470805        1      14810      1655686.0\n",
       "1365127        1       2407      1591572.0\n",
       "1259156        1       2835      1560987.0"
      ]
     },
     "execution_count": 7,
     "metadata": {},
     "output_type": "execute_result"
    }
   ],
   "source": [
    "RFM_Table = df.pivot_table(index='user_id', values=['event_time', 'user_session', 'price'],\n",
    "                                 aggfunc={'event_time': lambda x: (snapshot_date - x.max()).days,\n",
    "                                          'user_session': 'count',\n",
    "                                          'price': 'sum'}).round()\n",
    "RFM_Table.rename(columns={'event_time': 'Recency',\n",
    "                          'user_session': 'Frequency',\n",
    "                          'price': 'MonetaryValue'}, inplace=True)\n",
    "\n",
    "RFM_Table = RFM_Table[['Recency', 'Frequency', 'MonetaryValue']]\n",
    "\n",
    "RFM_Table.sort_values(by=['MonetaryValue'], ascending=False).head()"
   ]
  },
  {
   "cell_type": "markdown",
   "metadata": {},
   "source": [
    "RFM 값의 비율을 각각 확인 해 본 결과 1번만 접속한 고객의 비율이 너무 높아 Frequency 25% 이상의 값이 1입니다.\n",
    "각 4분위로 분류하고 싶었으나 F는 3분위로 분류해야 합니다."
   ]
  },
  {
   "cell_type": "code",
   "execution_count": 8,
   "metadata": {},
   "outputs": [
    {
     "data": {
      "text/plain": [
       "count    3.696117e+06\n",
       "mean     1.254310e+01\n",
       "std      8.350545e+00\n",
       "min      1.000000e+00\n",
       "25%      5.000000e+00\n",
       "50%      1.200000e+01\n",
       "75%      1.900000e+01\n",
       "max      3.000000e+01\n",
       "Name: Recency, dtype: float64"
      ]
     },
     "execution_count": 8,
     "metadata": {},
     "output_type": "execute_result"
    }
   ],
   "source": [
    "RFM_Table.Recency.describe()"
   ]
  },
  {
   "cell_type": "code",
   "execution_count": 22,
   "metadata": {},
   "outputs": [
    {
     "data": {
      "text/plain": [
       "count    3.696117e+06\n",
       "mean     1.213746e+01\n",
       "std      3.108137e+01\n",
       "min      1.000000e+00\n",
       "25%      1.000000e+00\n",
       "50%      4.000000e+00\n",
       "75%      1.200000e+01\n",
       "max      2.263000e+04\n",
       "Name: Frequency, dtype: float64"
      ]
     },
     "execution_count": 22,
     "metadata": {},
     "output_type": "execute_result"
    }
   ],
   "source": [
    "RFM_Table.Frequency.describe()"
   ]
  },
  {
   "cell_type": "code",
   "execution_count": 21,
   "metadata": {},
   "outputs": [
    {
     "data": {
      "text/plain": [
       "count    3.696117e+06\n",
       "mean     3.564278e+03\n",
       "std      9.713635e+03\n",
       "min      0.000000e+00\n",
       "25%      2.520000e+02\n",
       "50%      9.260000e+02\n",
       "75%      3.215000e+03\n",
       "max      5.126416e+06\n",
       "Name: MonetaryValue, dtype: float64"
      ]
     },
     "execution_count": 21,
     "metadata": {},
     "output_type": "execute_result"
    }
   ],
   "source": [
    "RFM_Table.MonetaryValue.describe()"
   ]
  },
  {
   "cell_type": "code",
   "execution_count": null,
   "metadata": {},
   "outputs": [],
   "source": [
    "RM은 4분위로 분류하고 F는 3분위로 분류합니다.\n",
    "RFM 점수는 numeric 타입으로 저장 해 줍니다."
   ]
  },
  {
   "cell_type": "code",
   "execution_count": 24,
   "metadata": {},
   "outputs": [],
   "source": [
    "R_labels = range(4,0,-1)\n",
    "F_labels = range(1,4)\n",
    "M_labels = range(1,5)\n",
    "\n",
    "R_score = pd.qcut(RFM_Table.Recency, 4, labels=R_labels)\n",
    "F_score = pd.qcut(RFM_Table.Frequency, 3, labels=F_labels)\n",
    "M_score = pd.qcut(RFM_Table.MonetaryValue, 4, labels=M_labels)\n",
    "\n",
    "RFM_Table['R'] = pd.to_numeric(R_score)\n",
    "RFM_Table['F'] = pd.to_numeric(F_score)\n",
    "RFM_Table['M'] = pd.to_numeric(M_score)"
   ]
  },
  {
   "cell_type": "code",
   "execution_count": 25,
   "metadata": {
    "scrolled": true
   },
   "outputs": [
    {
     "data": {
      "text/html": [
       "<div>\n",
       "<style scoped>\n",
       "    .dataframe tbody tr th:only-of-type {\n",
       "        vertical-align: middle;\n",
       "    }\n",
       "\n",
       "    .dataframe tbody tr th {\n",
       "        vertical-align: top;\n",
       "    }\n",
       "\n",
       "    .dataframe thead th {\n",
       "        text-align: right;\n",
       "    }\n",
       "</style>\n",
       "<table border=\"1\" class=\"dataframe\">\n",
       "  <thead>\n",
       "    <tr style=\"text-align: right;\">\n",
       "      <th></th>\n",
       "      <th>Recency</th>\n",
       "      <th>Frequency</th>\n",
       "      <th>MonetaryValue</th>\n",
       "      <th>R</th>\n",
       "      <th>F</th>\n",
       "      <th>M</th>\n",
       "    </tr>\n",
       "    <tr>\n",
       "      <th>user_id</th>\n",
       "      <th></th>\n",
       "      <th></th>\n",
       "      <th></th>\n",
       "      <th></th>\n",
       "      <th></th>\n",
       "      <th></th>\n",
       "    </tr>\n",
       "  </thead>\n",
       "  <tbody>\n",
       "    <tr>\n",
       "      <th>0</th>\n",
       "      <td>30</td>\n",
       "      <td>1</td>\n",
       "      <td>1415.0</td>\n",
       "      <td>1</td>\n",
       "      <td>1</td>\n",
       "      <td>3</td>\n",
       "    </tr>\n",
       "    <tr>\n",
       "      <th>1</th>\n",
       "      <td>9</td>\n",
       "      <td>3</td>\n",
       "      <td>1116.0</td>\n",
       "      <td>3</td>\n",
       "      <td>2</td>\n",
       "      <td>3</td>\n",
       "    </tr>\n",
       "    <tr>\n",
       "      <th>10</th>\n",
       "      <td>22</td>\n",
       "      <td>15</td>\n",
       "      <td>4961.0</td>\n",
       "      <td>1</td>\n",
       "      <td>3</td>\n",
       "      <td>4</td>\n",
       "    </tr>\n",
       "    <tr>\n",
       "      <th>100</th>\n",
       "      <td>23</td>\n",
       "      <td>8</td>\n",
       "      <td>4512.0</td>\n",
       "      <td>1</td>\n",
       "      <td>2</td>\n",
       "      <td>4</td>\n",
       "    </tr>\n",
       "    <tr>\n",
       "      <th>1000</th>\n",
       "      <td>8</td>\n",
       "      <td>23</td>\n",
       "      <td>3371.0</td>\n",
       "      <td>3</td>\n",
       "      <td>3</td>\n",
       "      <td>4</td>\n",
       "    </tr>\n",
       "  </tbody>\n",
       "</table>\n",
       "</div>"
      ],
      "text/plain": [
       "         Recency  Frequency  MonetaryValue  R  F  M\n",
       "user_id                                            \n",
       "0             30          1         1415.0  1  1  3\n",
       "1              9          3         1116.0  3  2  3\n",
       "10            22         15         4961.0  1  3  4\n",
       "100           23          8         4512.0  1  2  4\n",
       "1000           8         23         3371.0  3  3  4"
      ]
     },
     "execution_count": 25,
     "metadata": {},
     "output_type": "execute_result"
    }
   ],
   "source": [
    "RFM_Table.head()"
   ]
  },
  {
   "cell_type": "markdown",
   "metadata": {},
   "source": [
    "RFM 스코어의 합으로 고객 분류를 하기 위해 고객 수, RFM 평균, RFM 스코어 평균으로 RFM_Summary 데이터 프레임을 만들어 줍니다.\n",
    "전체 고객 대비 RFM 스코어 분류별 점유율을 Percentage 열으로 추가해 줍니다."
   ]
  },
  {
   "cell_type": "code",
   "execution_count": 26,
   "metadata": {},
   "outputs": [],
   "source": [
    "RFM_Table['RFM_Score'] = RFM_Table[['R','F','M']].sum(axis=1)\n",
    "RFM_Summary = RFM_Table.reset_index().pivot_table(index='RFM_Score', \n",
    "                                                  values=['user_id','Recency','Frequency','MonetaryValue',\n",
    "                                                          'R', 'F', 'M'],\n",
    "                                                  aggfunc={'user_id': 'count',\n",
    "                                                           'Recency': 'mean',\n",
    "                                                           'Frequency': 'mean',\n",
    "                                                           'MonetaryValue': 'mean',\n",
    "                                                           'R': 'mean',\n",
    "                                                           'F': 'mean',\n",
    "                                                           'M': 'mean'}).round(1)"
   ]
  },
  {
   "cell_type": "code",
   "execution_count": 28,
   "metadata": {},
   "outputs": [],
   "source": [
    "total_customer = RFM_Summary['user_id'].sum()\n",
    "RFM_Summary['Percentage'] = (RFM_Summary['user_id'] / total_customer * 100).round(1)"
   ]
  },
  {
   "cell_type": "code",
   "execution_count": 30,
   "metadata": {},
   "outputs": [],
   "source": [
    "RFM_Summary = RFM_Summary[['user_id', 'Percentage', 'R', 'F', 'M', \n",
    "                           'Recency','Frequency','MonetaryValue']]"
   ]
  },
  {
   "cell_type": "code",
   "execution_count": 31,
   "metadata": {},
   "outputs": [],
   "source": [
    "RFM_Summary.rename(columns={'user_id': 'Count',\n",
    "                            'Recency': 'Recency Mean',\n",
    "                            'Frequency': 'Frequency Mean',\n",
    "                            'MonetaryValue': 'MonetaryValue Mean'}, inplace=True)"
   ]
  },
  {
   "cell_type": "markdown",
   "metadata": {},
   "source": [
    "- RFM 분석 결과를 쉽게 알 수 있도록 시각화를 합니다.\n",
    "\n",
    "고객 수로 정렬하여 표로 나타내고 그룹별 고객 수를 Barplot으로 그려줍니다."
   ]
  },
  {
   "cell_type": "code",
   "execution_count": 32,
   "metadata": {},
   "outputs": [],
   "source": [
    "RFM_Summary.sort_values('Count', ascending=False, inplace=True)"
   ]
  },
  {
   "cell_type": "code",
   "execution_count": 33,
   "metadata": {},
   "outputs": [
    {
     "data": {
      "text/html": [
       "<div>\n",
       "<style scoped>\n",
       "    .dataframe tbody tr th:only-of-type {\n",
       "        vertical-align: middle;\n",
       "    }\n",
       "\n",
       "    .dataframe tbody tr th {\n",
       "        vertical-align: top;\n",
       "    }\n",
       "\n",
       "    .dataframe thead th {\n",
       "        text-align: right;\n",
       "    }\n",
       "</style>\n",
       "<table border=\"1\" class=\"dataframe\">\n",
       "  <thead>\n",
       "    <tr style=\"text-align: right;\">\n",
       "      <th></th>\n",
       "      <th>Count</th>\n",
       "      <th>Percentage</th>\n",
       "      <th>R</th>\n",
       "      <th>F</th>\n",
       "      <th>M</th>\n",
       "      <th>Recency Mean</th>\n",
       "      <th>Frequency Mean</th>\n",
       "      <th>MonetaryValue Mean</th>\n",
       "    </tr>\n",
       "    <tr>\n",
       "      <th>RFM_Score</th>\n",
       "      <th></th>\n",
       "      <th></th>\n",
       "      <th></th>\n",
       "      <th></th>\n",
       "      <th></th>\n",
       "      <th></th>\n",
       "      <th></th>\n",
       "      <th></th>\n",
       "    </tr>\n",
       "  </thead>\n",
       "  <tbody>\n",
       "    <tr>\n",
       "      <th>6</th>\n",
       "      <td>538167</td>\n",
       "      <td>14.6</td>\n",
       "      <td>2.6</td>\n",
       "      <td>1.5</td>\n",
       "      <td>2.0</td>\n",
       "      <td>12.6</td>\n",
       "      <td>3.0</td>\n",
       "      <td>706.4</td>\n",
       "    </tr>\n",
       "    <tr>\n",
       "      <th>5</th>\n",
       "      <td>524135</td>\n",
       "      <td>14.2</td>\n",
       "      <td>2.2</td>\n",
       "      <td>1.2</td>\n",
       "      <td>1.6</td>\n",
       "      <td>15.5</td>\n",
       "      <td>2.0</td>\n",
       "      <td>416.9</td>\n",
       "    </tr>\n",
       "    <tr>\n",
       "      <th>7</th>\n",
       "      <td>462802</td>\n",
       "      <td>12.5</td>\n",
       "      <td>2.7</td>\n",
       "      <td>1.8</td>\n",
       "      <td>2.5</td>\n",
       "      <td>11.5</td>\n",
       "      <td>5.0</td>\n",
       "      <td>1300.4</td>\n",
       "    </tr>\n",
       "    <tr>\n",
       "      <th>9</th>\n",
       "      <td>439202</td>\n",
       "      <td>11.9</td>\n",
       "      <td>2.8</td>\n",
       "      <td>2.7</td>\n",
       "      <td>3.5</td>\n",
       "      <td>9.9</td>\n",
       "      <td>19.5</td>\n",
       "      <td>6156.8</td>\n",
       "    </tr>\n",
       "    <tr>\n",
       "      <th>8</th>\n",
       "      <td>424586</td>\n",
       "      <td>11.5</td>\n",
       "      <td>2.7</td>\n",
       "      <td>2.3</td>\n",
       "      <td>3.0</td>\n",
       "      <td>10.9</td>\n",
       "      <td>9.3</td>\n",
       "      <td>2588.2</td>\n",
       "    </tr>\n",
       "    <tr>\n",
       "      <th>4</th>\n",
       "      <td>349319</td>\n",
       "      <td>9.5</td>\n",
       "      <td>1.4</td>\n",
       "      <td>1.1</td>\n",
       "      <td>1.5</td>\n",
       "      <td>21.0</td>\n",
       "      <td>1.6</td>\n",
       "      <td>294.2</td>\n",
       "    </tr>\n",
       "    <tr>\n",
       "      <th>11</th>\n",
       "      <td>344309</td>\n",
       "      <td>9.3</td>\n",
       "      <td>4.0</td>\n",
       "      <td>3.0</td>\n",
       "      <td>4.0</td>\n",
       "      <td>2.5</td>\n",
       "      <td>50.0</td>\n",
       "      <td>15401.6</td>\n",
       "    </tr>\n",
       "    <tr>\n",
       "      <th>10</th>\n",
       "      <td>336824</td>\n",
       "      <td>9.1</td>\n",
       "      <td>3.4</td>\n",
       "      <td>2.9</td>\n",
       "      <td>3.7</td>\n",
       "      <td>6.2</td>\n",
       "      <td>27.6</td>\n",
       "      <td>8119.7</td>\n",
       "    </tr>\n",
       "    <tr>\n",
       "      <th>3</th>\n",
       "      <td>276773</td>\n",
       "      <td>7.5</td>\n",
       "      <td>1.0</td>\n",
       "      <td>1.0</td>\n",
       "      <td>1.0</td>\n",
       "      <td>24.8</td>\n",
       "      <td>1.2</td>\n",
       "      <td>108.0</td>\n",
       "    </tr>\n",
       "  </tbody>\n",
       "</table>\n",
       "</div>"
      ],
      "text/plain": [
       "            Count  Percentage    R    F    M  Recency Mean  Frequency Mean  \\\n",
       "RFM_Score                                                                    \n",
       "6          538167        14.6  2.6  1.5  2.0          12.6             3.0   \n",
       "5          524135        14.2  2.2  1.2  1.6          15.5             2.0   \n",
       "7          462802        12.5  2.7  1.8  2.5          11.5             5.0   \n",
       "9          439202        11.9  2.8  2.7  3.5           9.9            19.5   \n",
       "8          424586        11.5  2.7  2.3  3.0          10.9             9.3   \n",
       "4          349319         9.5  1.4  1.1  1.5          21.0             1.6   \n",
       "11         344309         9.3  4.0  3.0  4.0           2.5            50.0   \n",
       "10         336824         9.1  3.4  2.9  3.7           6.2            27.6   \n",
       "3          276773         7.5  1.0  1.0  1.0          24.8             1.2   \n",
       "\n",
       "           MonetaryValue Mean  \n",
       "RFM_Score                      \n",
       "6                       706.4  \n",
       "5                       416.9  \n",
       "7                      1300.4  \n",
       "9                      6156.8  \n",
       "8                      2588.2  \n",
       "4                       294.2  \n",
       "11                    15401.6  \n",
       "10                     8119.7  \n",
       "3                       108.0  "
      ]
     },
     "execution_count": 33,
     "metadata": {},
     "output_type": "execute_result"
    }
   ],
   "source": [
    "RFM_Summary"
   ]
  },
  {
   "cell_type": "code",
   "execution_count": 58,
   "metadata": {},
   "outputs": [
    {
     "data": {
      "image/png": "[encoded data removed]",
      "text/plain": [
       "<Figure size 576x432 with 1 Axes>"
      ]
     },
     "metadata": {
      "needs_background": "light"
     },
     "output_type": "display_data"
    }
   ],
   "source": [
    "user_no = RFM_Table.groupby('RFM_Score').agg({'R': 'count'})\n",
    "user_no = user_no.reset_index().sort_values(['RFM_Score'], ascending=False)\n",
    "user_no.rename(columns={'R': '# of User'}, inplace=True)\n",
    "\n",
    "# barplot\n",
    "plt.figure(figsize=(8,6))\n",
    "ax = sns.barplot(data=user_no, x='RFM_Score', y='# of User',\n",
    "                 order=user_no['RFM_Score'])\n",
    "for i in ax.patches:\n",
    "    ax.annotate(i.get_height(), (i.get_x()+0.1, i.get_height()+5))"
   ]
  },
  {
   "cell_type": "markdown",
   "metadata": {},
   "source": [
    "RFM 점수 6에 해당하는 고객이 가장 많은 것을 확인 할 수 있습니다."
   ]
  },
  {
   "cell_type": "markdown",
   "metadata": {},
   "source": [
    "최근성 X 빈도 히트맵을 그립니다."
   ]
  },
  {
   "cell_type": "code",
   "execution_count": 40,
   "metadata": {},
   "outputs": [
    {
     "name": "stdout",
     "output_type": "stream",
     "text": [
      "F       1       2       3\n",
      "R                        \n",
      "1  503201  262489  102974\n",
      "2  284193  290252  304406\n",
      "3  401880  269030  296198\n",
      "4  249358  258171  473965\n"
     ]
    }
   ],
   "source": [
    "RxF = RFM_Table.reset_index().pivot_table(index='R', columns='F', \n",
    "                                          values='user_id', aggfunc='count')\n",
    "total = RxF.sum().sum()\n",
    "print(RxF)"
   ]
  },
  {
   "cell_type": "code",
   "execution_count": 41,
   "metadata": {},
   "outputs": [
    {
     "data": {
      "text/html": [
       "<div>\n",
       "<style scoped>\n",
       "    .dataframe tbody tr th:only-of-type {\n",
       "        vertical-align: middle;\n",
       "    }\n",
       "\n",
       "    .dataframe tbody tr th {\n",
       "        vertical-align: top;\n",
       "    }\n",
       "\n",
       "    .dataframe thead th {\n",
       "        text-align: right;\n",
       "    }\n",
       "</style>\n",
       "<table border=\"1\" class=\"dataframe\">\n",
       "  <thead>\n",
       "    <tr style=\"text-align: right;\">\n",
       "      <th>F</th>\n",
       "      <th>1</th>\n",
       "      <th>2</th>\n",
       "      <th>3</th>\n",
       "    </tr>\n",
       "    <tr>\n",
       "      <th>R</th>\n",
       "      <th></th>\n",
       "      <th></th>\n",
       "      <th></th>\n",
       "    </tr>\n",
       "  </thead>\n",
       "  <tbody>\n",
       "    <tr>\n",
       "      <th>1</th>\n",
       "      <td>0.136</td>\n",
       "      <td>0.071</td>\n",
       "      <td>0.028</td>\n",
       "    </tr>\n",
       "    <tr>\n",
       "      <th>2</th>\n",
       "      <td>0.077</td>\n",
       "      <td>0.079</td>\n",
       "      <td>0.082</td>\n",
       "    </tr>\n",
       "    <tr>\n",
       "      <th>3</th>\n",
       "      <td>0.109</td>\n",
       "      <td>0.073</td>\n",
       "      <td>0.080</td>\n",
       "    </tr>\n",
       "    <tr>\n",
       "      <th>4</th>\n",
       "      <td>0.067</td>\n",
       "      <td>0.070</td>\n",
       "      <td>0.128</td>\n",
       "    </tr>\n",
       "  </tbody>\n",
       "</table>\n",
       "</div>"
      ],
      "text/plain": [
       "F      1      2      3\n",
       "R                     \n",
       "1  0.136  0.071  0.028\n",
       "2  0.077  0.079  0.082\n",
       "3  0.109  0.073  0.080\n",
       "4  0.067  0.070  0.128"
      ]
     },
     "execution_count": 41,
     "metadata": {},
     "output_type": "execute_result"
    }
   ],
   "source": [
    "RxF = (RxF / total).round(3)\n",
    "RxF"
   ]
  },
  {
   "cell_type": "code",
   "execution_count": 66,
   "metadata": {},
   "outputs": [
    {
     "data": {
      "image/png": "[encoded data removed]",
      "text/plain": [
       "<Figure size 576x432 with 2 Axes>"
      ]
     },
     "metadata": {
      "needs_background": "light"
     },
     "output_type": "display_data"
    }
   ],
   "source": [
    "plt.figure(figsize=(8,6))\n",
    "plt.title('Recency X Frequency', fontsize=20)\n",
    "ax = sns.heatmap(data=RxF, annot=True, fmt='0.0%', cmap='RdPu')\n",
    "ax.xaxis.tick_top()\n",
    "ax.xaxis.set_label_position('top')"
   ]
  },
  {
   "cell_type": "markdown",
   "metadata": {},
   "source": [
    "4행에 가까울 수록 최근에 사용한 고객이고 3열에 가까울 수록 가장 자주 방문한 고객입니다.\n",
    "유형별로 분류하자면 아래와 같이 표현할 수 있습니다.\n",
    "\n",
    "**1행 1열** : 일반 고객(14%)\n",
    "**1행 3열** : 예전 고객(3%)\n",
    "**1행 4열** : 신규 고객(7%)\n",
    "**4행 3열** : 단골 고객(13%)"
   ]
  },
  {
   "cell_type": "markdown",
   "metadata": {},
   "source": [
    "빈도와 구매 금액도 히트맵을 그릴 수 있습니다."
   ]
  },
  {
   "cell_type": "code",
   "execution_count": 45,
   "metadata": {},
   "outputs": [
    {
     "name": "stdout",
     "output_type": "stream",
     "text": [
      "M       1       2       3       4\n",
      "F                                \n",
      "1  791644  470567  171895    4526\n",
      "2  130322  385724  431920  131976\n",
      "3    3879   67098  319120  787446\n"
     ]
    }
   ],
   "source": [
    "FxM = RFM_Table.reset_index().pivot_table(index='F', columns='M', \n",
    "                                          values='user_id', aggfunc='count')\n",
    "total = FxM.sum().sum()\n",
    "print(FxM)"
   ]
  },
  {
   "cell_type": "code",
   "execution_count": 46,
   "metadata": {},
   "outputs": [
    {
     "data": {
      "text/html": [
       "<div>\n",
       "<style scoped>\n",
       "    .dataframe tbody tr th:only-of-type {\n",
       "        vertical-align: middle;\n",
       "    }\n",
       "\n",
       "    .dataframe tbody tr th {\n",
       "        vertical-align: top;\n",
       "    }\n",
       "\n",
       "    .dataframe thead th {\n",
       "        text-align: right;\n",
       "    }\n",
       "</style>\n",
       "<table border=\"1\" class=\"dataframe\">\n",
       "  <thead>\n",
       "    <tr style=\"text-align: right;\">\n",
       "      <th>M</th>\n",
       "      <th>1</th>\n",
       "      <th>2</th>\n",
       "      <th>3</th>\n",
       "      <th>4</th>\n",
       "    </tr>\n",
       "    <tr>\n",
       "      <th>F</th>\n",
       "      <th></th>\n",
       "      <th></th>\n",
       "      <th></th>\n",
       "      <th></th>\n",
       "    </tr>\n",
       "  </thead>\n",
       "  <tbody>\n",
       "    <tr>\n",
       "      <th>1</th>\n",
       "      <td>0.214</td>\n",
       "      <td>0.127</td>\n",
       "      <td>0.047</td>\n",
       "      <td>0.001</td>\n",
       "    </tr>\n",
       "    <tr>\n",
       "      <th>2</th>\n",
       "      <td>0.035</td>\n",
       "      <td>0.104</td>\n",
       "      <td>0.117</td>\n",
       "      <td>0.036</td>\n",
       "    </tr>\n",
       "    <tr>\n",
       "      <th>3</th>\n",
       "      <td>0.001</td>\n",
       "      <td>0.018</td>\n",
       "      <td>0.086</td>\n",
       "      <td>0.213</td>\n",
       "    </tr>\n",
       "  </tbody>\n",
       "</table>\n",
       "</div>"
      ],
      "text/plain": [
       "M      1      2      3      4\n",
       "F                            \n",
       "1  0.214  0.127  0.047  0.001\n",
       "2  0.035  0.104  0.117  0.036\n",
       "3  0.001  0.018  0.086  0.213"
      ]
     },
     "execution_count": 46,
     "metadata": {},
     "output_type": "execute_result"
    }
   ],
   "source": [
    "FxM = (FxM / total).round(3)\n",
    "FxM"
   ]
  },
  {
   "cell_type": "code",
   "execution_count": 65,
   "metadata": {},
   "outputs": [
    {
     "data": {
      "image/png": "[encoded data removed]",
      "text/plain": [
       "<Figure size 576x432 with 2 Axes>"
      ]
     },
     "metadata": {
      "needs_background": "light"
     },
     "output_type": "display_data"
    }
   ],
   "source": [
    "plt.figure(figsize=(8,6))\n",
    "plt.title('Frequency X MonetaryValue', fontsize=20)\n",
    "ax = sns.heatmap(data=FxM, annot=True, fmt='0.0%', cmap='RdPu')\n",
    "ax.xaxis.tick_top()\n",
    "ax.xaxis.set_label_position('top')"
   ]
  },
  {
   "cell_type": "markdown",
   "metadata": {},
   "source": [
    "3행에 가까울 수록 자주 방문한 고객이고 4열에 가까울 수록 많은 금액을 구매한 고객입니다.\n",
    "유형별로 분류하자면 아래와 같이 표현할 수 있습니다.\n",
    "\n",
    "**1행 1열** : 일반 고객(21%)\n",
    "**4행 3열** : VIP 고객(21%)"
   ]
  },
  {
   "cell_type": "code",
   "execution_count": 43,
   "metadata": {},
   "outputs": [
    {
     "data": {
      "image/png": "[encoded data removed]",
      "text/plain": [
       "<Figure size 576x432 with 1 Axes>"
      ]
     },
     "metadata": {
      "needs_background": "light"
     },
     "output_type": "display_data"
    }
   ],
   "source": [
    "Ave_Recency = RFM_Summary.iloc[:,[5]].sort_index(ascending=False).reset_index()\n",
    "Ave_Recency.RFM_Score = Ave_Recency.RFM_Score.astype('category')\n",
    "\n",
    "plt.figure(figsize=(8,6))\n",
    "plt.title('Average Receny days', fontsize=20)\n",
    "ax = sns.barplot(data=Ave_Recency,x='Recency Mean', y='RFM_Score', \n",
    "                 order=Ave_Recency['RFM_Score'])\n",
    "for i in ax.patches:\n",
    "    ax.annotate(i.get_width(), (i.get_width()+0.5, i.get_y()+0.5))"
   ]
  },
  {
   "cell_type": "code",
   "execution_count": 72,
   "metadata": {},
   "outputs": [
    {
     "data": {
      "image/png": "[encoded data removed]",
      "text/plain": [
       "<Figure size 576x432 with 1 Axes>"
      ]
     },
     "metadata": {
      "needs_background": "light"
     },
     "output_type": "display_data"
    }
   ],
   "source": [
    "Ave_Freq = RFM_Summary.iloc[:,[6]].sort_index(ascending=False).reset_index()\n",
    "Ave_Freq.RFM_Score = Ave_Freq.RFM_Score.astype('category')\n",
    "\n",
    "plt.figure(figsize=(8,6))\n",
    "plt.title('Average Frequency Value', fontsize=20)\n",
    "ax = sns.barplot(data=Ave_Freq,x='Frequency Mean', y='RFM_Score', \n",
    "                 order=Ave_Freq['RFM_Score'])\n",
    "for i in ax.patches:\n",
    "    ax.annotate(i.get_width(), (i.get_width()+0.5, i.get_y()+0.5))"
   ]
  },
  {
   "cell_type": "code",
   "execution_count": 44,
   "metadata": {},
   "outputs": [
    {
     "data": {
      "image/png": "[encoded data removed]",
      "text/plain": [
       "<Figure size 576x432 with 1 Axes>"
      ]
     },
     "metadata": {
      "needs_background": "light"
     },
     "output_type": "display_data"
    }
   ],
   "source": [
    "Ave_Money = RFM_Summary.iloc[:,[7]].sort_index(ascending=False).reset_index()\n",
    "Ave_Money.RFM_Score = Ave_Recency.RFM_Score.astype('category')\n",
    "\n",
    "plt.figure(figsize=(8,6))\n",
    "plt.title('Average Monetary Value', fontsize=20)\n",
    "ax = sns.barplot(data=Ave_Money,x='MonetaryValue Mean', y='RFM_Score', \n",
    "                 order=Ave_Money['RFM_Score'])\n",
    "for i in ax.patches:\n",
    "    ax.annotate(i.get_width(), (i.get_width()+0.5, i.get_y()+0.5))"
   ]
  },
  {
   "cell_type": "markdown",
   "metadata": {},
   "source": [
    "고객 그룹 별 R F M 값을 그래프로 비교해 본 결과 모든 항목이 그룹의 RFM 점수의 합과 동일한 순서임을 확인 할 수 있습니다.\n",
    "따라서 3번 그룹은 과거에 잠깐 접속했던 고객으로 볼 수 있고, 11번 그룹은 오래전부터 지속적으로 큰 금액을 사용하는 VIP 고객으로 볼 수 있습니다.\n",
    "\n",
    "이렇게 분류한 고객 유형에 따라 프로모션 형태를 달리 가져가면 고객 유치에 도움이 될 것으로 예상됩니다.\n",
    "\n",
    "그리고 쇼핑몰의 성격에 따라 R F M의 가중치를 다르게 가져가거나 특정한 성격을 가진 고객 그룹을 새로 구성할 수 있으며\n",
    "고객의 성별, 가구수, 나이, 지역에 대한 정보도 연동 할 수 있다면 고객 성향에 더욱 적합한 프로모션을 기획 할 수 있습니다."
   ]
  }
 ],
 "metadata": {
  "kernelspec": {
   "display_name": "Python 3.8.5 64-bit",
   "language": "python",
   "name": "python38564bit20f83f21d34e42fc85844838abbfee95"
  },
  "language_info": {
   "codemirror_mode": {
    "name": "ipython",
    "version": 3
   },
   "file_extension": ".py",
   "mimetype": "text/x-python",
   "name": "python",
   "nbconvert_exporter": "python",
   "pygments_lexer": "ipython3",
   "version": "3.8.5"
  }
 },
 "nbformat": 4,
 "nbformat_minor": 4
}
